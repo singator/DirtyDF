{
 "cells": [
  {
   "cell_type": "markdown",
   "id": "4bc7acb8",
   "metadata": {},
   "source": [
    "# Introduction\n",
    "\n",
    "Documentation [here](https://joeltanwr.github.io/DirtyDF/html/)"
   ]
  },
  {
   "cell_type": "code",
   "execution_count": 1,
   "id": "b24f0c1c",
   "metadata": {},
   "outputs": [],
   "source": [
    "import sys\n",
    "sys.path.insert(0, \"../ddf/\")"
   ]
  },
  {
   "cell_type": "markdown",
   "id": "0f2ab599",
   "metadata": {},
   "source": [
    "# Stainers"
   ]
  },
  {
   "cell_type": "code",
   "execution_count": 3,
   "id": "83169c78",
   "metadata": {},
   "outputs": [],
   "source": [
    "import importlib"
   ]
  },
  {
   "cell_type": "code",
   "execution_count": 5,
   "id": "f6babc39",
   "metadata": {},
   "outputs": [],
   "source": [
    "import pandas as pd\n",
    "import numpy as np"
   ]
  },
  {
   "cell_type": "code",
   "execution_count": 7,
   "id": "3edc5dad",
   "metadata": {},
   "outputs": [],
   "source": [
    "import stainer as SE"
   ]
  },
  {
   "cell_type": "code",
   "execution_count": 6,
   "id": "7f71c5d0",
   "metadata": {},
   "outputs": [],
   "source": [
    "importlib.reload(SE)"
   ]
  },
  {
   "cell_type": "code",
   "execution_count": 8,
   "id": "ea6239d1",
   "metadata": {},
   "outputs": [],
   "source": [
    "df = pd.DataFrame([(0, 'Cat'), (1, 'Dog'), (2, 'Rabbit'), (3, 'Cat'), (4, 'Cat'), (5, 'Dog')], columns=('id', 'class'))"
   ]
  },
  {
   "cell_type": "code",
   "execution_count": 9,
   "id": "2010f267",
   "metadata": {},
   "outputs": [
    {
     "data": {
      "text/html": [
       "<div>\n",
       "<style scoped>\n",
       "    .dataframe tbody tr th:only-of-type {\n",
       "        vertical-align: middle;\n",
       "    }\n",
       "\n",
       "    .dataframe tbody tr th {\n",
       "        vertical-align: top;\n",
       "    }\n",
       "\n",
       "    .dataframe thead th {\n",
       "        text-align: right;\n",
       "    }\n",
       "</style>\n",
       "<table border=\"1\" class=\"dataframe\">\n",
       "  <thead>\n",
       "    <tr style=\"text-align: right;\">\n",
       "      <th></th>\n",
       "      <th>id</th>\n",
       "      <th>class</th>\n",
       "    </tr>\n",
       "  </thead>\n",
       "  <tbody>\n",
       "    <tr>\n",
       "      <th>0</th>\n",
       "      <td>0</td>\n",
       "      <td>Cat</td>\n",
       "    </tr>\n",
       "    <tr>\n",
       "      <th>1</th>\n",
       "      <td>1</td>\n",
       "      <td>Dog</td>\n",
       "    </tr>\n",
       "    <tr>\n",
       "      <th>2</th>\n",
       "      <td>2</td>\n",
       "      <td>Rabbit</td>\n",
       "    </tr>\n",
       "    <tr>\n",
       "      <th>3</th>\n",
       "      <td>3</td>\n",
       "      <td>Cat</td>\n",
       "    </tr>\n",
       "    <tr>\n",
       "      <th>4</th>\n",
       "      <td>4</td>\n",
       "      <td>Cat</td>\n",
       "    </tr>\n",
       "    <tr>\n",
       "      <th>5</th>\n",
       "      <td>5</td>\n",
       "      <td>Dog</td>\n",
       "    </tr>\n",
       "  </tbody>\n",
       "</table>\n",
       "</div>"
      ],
      "text/plain": [
       "   id   class\n",
       "0   0     Cat\n",
       "1   1     Dog\n",
       "2   2  Rabbit\n",
       "3   3     Cat\n",
       "4   4     Cat\n",
       "5   5     Dog"
      ]
     },
     "execution_count": 9,
     "metadata": {},
     "output_type": "execute_result"
    }
   ],
   "source": [
    "df"
   ]
  },
  {
   "cell_type": "code",
   "execution_count": 13,
   "id": "231bcf24",
   "metadata": {},
   "outputs": [],
   "source": [
    "shuffle_stainer = SE.ShuffleStainer()\n",
    "rng = np.random.default_rng(42)"
   ]
  },
  {
   "cell_type": "code",
   "execution_count": 14,
   "id": "00019002",
   "metadata": {},
   "outputs": [
    {
     "data": {
      "text/html": [
       "<div>\n",
       "<style scoped>\n",
       "    .dataframe tbody tr th:only-of-type {\n",
       "        vertical-align: middle;\n",
       "    }\n",
       "\n",
       "    .dataframe tbody tr th {\n",
       "        vertical-align: top;\n",
       "    }\n",
       "\n",
       "    .dataframe thead th {\n",
       "        text-align: right;\n",
       "    }\n",
       "</style>\n",
       "<table border=\"1\" class=\"dataframe\">\n",
       "  <thead>\n",
       "    <tr style=\"text-align: right;\">\n",
       "      <th></th>\n",
       "      <th>id</th>\n",
       "      <th>class</th>\n",
       "    </tr>\n",
       "  </thead>\n",
       "  <tbody>\n",
       "    <tr>\n",
       "      <th>0</th>\n",
       "      <td>3</td>\n",
       "      <td>Cat</td>\n",
       "    </tr>\n",
       "    <tr>\n",
       "      <th>1</th>\n",
       "      <td>2</td>\n",
       "      <td>Rabbit</td>\n",
       "    </tr>\n",
       "    <tr>\n",
       "      <th>2</th>\n",
       "      <td>5</td>\n",
       "      <td>Dog</td>\n",
       "    </tr>\n",
       "    <tr>\n",
       "      <th>3</th>\n",
       "      <td>4</td>\n",
       "      <td>Cat</td>\n",
       "    </tr>\n",
       "    <tr>\n",
       "      <th>4</th>\n",
       "      <td>1</td>\n",
       "      <td>Dog</td>\n",
       "    </tr>\n",
       "    <tr>\n",
       "      <th>5</th>\n",
       "      <td>0</td>\n",
       "      <td>Cat</td>\n",
       "    </tr>\n",
       "  </tbody>\n",
       "</table>\n",
       "</div>"
      ],
      "text/plain": [
       "   id   class\n",
       "0   3     Cat\n",
       "1   2  Rabbit\n",
       "2   5     Dog\n",
       "3   4     Cat\n",
       "4   1     Dog\n",
       "5   0     Cat"
      ]
     },
     "execution_count": 14,
     "metadata": {},
     "output_type": "execute_result"
    }
   ],
   "source": [
    "new_df, row_map, col_map = shuffle_stainer.transform(df, rng)\n",
    "new_df"
   ]
  },
  {
   "cell_type": "code",
   "execution_count": 15,
   "id": "30ae6f76",
   "metadata": {},
   "outputs": [],
   "source": [
    "dupli_stainer = SE.RowDuplicateStainer(deg=0.3)"
   ]
  },
  {
   "cell_type": "code",
   "execution_count": 16,
   "id": "f9fc387e",
   "metadata": {},
   "outputs": [],
   "source": [
    "new_df, row_map, col_map= dupli_stainer.transform(df, rng, row_idx=list(df.index))"
   ]
  },
  {
   "cell_type": "code",
   "execution_count": 17,
   "id": "319b9304",
   "metadata": {},
   "outputs": [
    {
     "data": {
      "text/html": [
       "<div>\n",
       "<style scoped>\n",
       "    .dataframe tbody tr th:only-of-type {\n",
       "        vertical-align: middle;\n",
       "    }\n",
       "\n",
       "    .dataframe tbody tr th {\n",
       "        vertical-align: top;\n",
       "    }\n",
       "\n",
       "    .dataframe thead th {\n",
       "        text-align: right;\n",
       "    }\n",
       "</style>\n",
       "<table border=\"1\" class=\"dataframe\">\n",
       "  <thead>\n",
       "    <tr style=\"text-align: right;\">\n",
       "      <th></th>\n",
       "      <th>id</th>\n",
       "      <th>class</th>\n",
       "    </tr>\n",
       "  </thead>\n",
       "  <tbody>\n",
       "    <tr>\n",
       "      <th>0</th>\n",
       "      <td>0</td>\n",
       "      <td>Cat</td>\n",
       "    </tr>\n",
       "    <tr>\n",
       "      <th>1</th>\n",
       "      <td>0</td>\n",
       "      <td>Cat</td>\n",
       "    </tr>\n",
       "    <tr>\n",
       "      <th>2</th>\n",
       "      <td>1</td>\n",
       "      <td>Dog</td>\n",
       "    </tr>\n",
       "    <tr>\n",
       "      <th>3</th>\n",
       "      <td>2</td>\n",
       "      <td>Rabbit</td>\n",
       "    </tr>\n",
       "    <tr>\n",
       "      <th>4</th>\n",
       "      <td>3</td>\n",
       "      <td>Cat</td>\n",
       "    </tr>\n",
       "    <tr>\n",
       "      <th>5</th>\n",
       "      <td>4</td>\n",
       "      <td>Cat</td>\n",
       "    </tr>\n",
       "    <tr>\n",
       "      <th>6</th>\n",
       "      <td>5</td>\n",
       "      <td>Dog</td>\n",
       "    </tr>\n",
       "  </tbody>\n",
       "</table>\n",
       "</div>"
      ],
      "text/plain": [
       "   id   class\n",
       "0   0     Cat\n",
       "1   0     Cat\n",
       "2   1     Dog\n",
       "3   2  Rabbit\n",
       "4   3     Cat\n",
       "5   4     Cat\n",
       "6   5     Dog"
      ]
     },
     "execution_count": 17,
     "metadata": {},
     "output_type": "execute_result"
    }
   ],
   "source": [
    "new_df"
   ]
  },
  {
   "cell_type": "code",
   "execution_count": 18,
   "id": "0a0896d7",
   "metadata": {},
   "outputs": [],
   "source": [
    "rng = np.random.default_rng(42) # reinitialize random generator\n",
    "df2 = pd.DataFrame(zip(range(100), rng.choice(['Cat','Dog','Rabbit'], 100), rng.choice(['Cow', 'Sheep', 'Goat', 'Horse'], 100)),\n",
    "                  columns=('id', 'class', 'class2'))\n"
   ]
  },
  {
   "cell_type": "code",
   "execution_count": 19,
   "id": "37b9df1f",
   "metadata": {},
   "outputs": [],
   "source": [
    "inflection_stainer=SE.InflectionStainer()"
   ]
  },
  {
   "cell_type": "code",
   "execution_count": 20,
   "id": "a25a3df2",
   "metadata": {},
   "outputs": [
    {
     "data": {
      "text/html": [
       "<div>\n",
       "<style scoped>\n",
       "    .dataframe tbody tr th:only-of-type {\n",
       "        vertical-align: middle;\n",
       "    }\n",
       "\n",
       "    .dataframe tbody tr th {\n",
       "        vertical-align: top;\n",
       "    }\n",
       "\n",
       "    .dataframe thead th {\n",
       "        text-align: right;\n",
       "    }\n",
       "</style>\n",
       "<table border=\"1\" class=\"dataframe\">\n",
       "  <thead>\n",
       "    <tr style=\"text-align: right;\">\n",
       "      <th></th>\n",
       "      <th>id</th>\n",
       "      <th>class</th>\n",
       "      <th>class2</th>\n",
       "    </tr>\n",
       "  </thead>\n",
       "  <tbody>\n",
       "    <tr>\n",
       "      <th>0</th>\n",
       "      <td>0</td>\n",
       "      <td>Cat</td>\n",
       "      <td>Horse</td>\n",
       "    </tr>\n",
       "    <tr>\n",
       "      <th>1</th>\n",
       "      <td>1</td>\n",
       "      <td>Rabbit</td>\n",
       "      <td>Cow</td>\n",
       "    </tr>\n",
       "    <tr>\n",
       "      <th>2</th>\n",
       "      <td>2</td>\n",
       "      <td>Dog</td>\n",
       "      <td>Horse</td>\n",
       "    </tr>\n",
       "    <tr>\n",
       "      <th>3</th>\n",
       "      <td>3</td>\n",
       "      <td>Dog</td>\n",
       "      <td>Cow</td>\n",
       "    </tr>\n",
       "    <tr>\n",
       "      <th>4</th>\n",
       "      <td>4</td>\n",
       "      <td>Dog</td>\n",
       "      <td>Horse</td>\n",
       "    </tr>\n",
       "  </tbody>\n",
       "</table>\n",
       "</div>"
      ],
      "text/plain": [
       "   id   class class2\n",
       "0   0     Cat  Horse\n",
       "1   1  Rabbit    Cow\n",
       "2   2     Dog  Horse\n",
       "3   3     Dog    Cow\n",
       "4   4     Dog  Horse"
      ]
     },
     "execution_count": 20,
     "metadata": {},
     "output_type": "execute_result"
    }
   ],
   "source": [
    "new_df2, row_map2, col_map2 = inflection_stainer.transform(df2, rng)\n",
    "new_df2.head()"
   ]
  },
  {
   "cell_type": "code",
   "execution_count": 21,
   "id": "33607d9a",
   "metadata": {},
   "outputs": [
    {
     "data": {
      "text/html": [
       "<div>\n",
       "<style scoped>\n",
       "    .dataframe tbody tr th:only-of-type {\n",
       "        vertical-align: middle;\n",
       "    }\n",
       "\n",
       "    .dataframe tbody tr th {\n",
       "        vertical-align: top;\n",
       "    }\n",
       "\n",
       "    .dataframe thead th {\n",
       "        text-align: right;\n",
       "    }\n",
       "</style>\n",
       "<table border=\"1\" class=\"dataframe\">\n",
       "  <thead>\n",
       "    <tr style=\"text-align: right;\">\n",
       "      <th></th>\n",
       "      <th>id</th>\n",
       "      <th>class1</th>\n",
       "      <th>class2</th>\n",
       "    </tr>\n",
       "  </thead>\n",
       "  <tbody>\n",
       "    <tr>\n",
       "      <th>0</th>\n",
       "      <td>1</td>\n",
       "      <td>95</td>\n",
       "      <td>133</td>\n",
       "    </tr>\n",
       "    <tr>\n",
       "      <th>1</th>\n",
       "      <td>2</td>\n",
       "      <td>11</td>\n",
       "      <td>103</td>\n",
       "    </tr>\n",
       "    <tr>\n",
       "      <th>2</th>\n",
       "      <td>3</td>\n",
       "      <td>39</td>\n",
       "      <td>178</td>\n",
       "    </tr>\n",
       "    <tr>\n",
       "      <th>3</th>\n",
       "      <td>4</td>\n",
       "      <td>11</td>\n",
       "      <td>120</td>\n",
       "    </tr>\n",
       "    <tr>\n",
       "      <th>4</th>\n",
       "      <td>5</td>\n",
       "      <td>7</td>\n",
       "      <td>166</td>\n",
       "    </tr>\n",
       "  </tbody>\n",
       "</table>\n",
       "</div>"
      ],
      "text/plain": [
       "   id  class1  class2\n",
       "0   1      95     133\n",
       "1   2      11     103\n",
       "2   3      39     178\n",
       "3   4      11     120\n",
       "4   5       7     166"
      ]
     },
     "execution_count": 21,
     "metadata": {},
     "output_type": "execute_result"
    }
   ],
   "source": [
    "df=pd.DataFrame(zip(range(1, 6), np.random.choice(range(1, 101), 5, replace=True), \n",
    "                    np.random.choice(range(101, 200), 5, replace=True)),\n",
    "               columns=('id', 'class1', 'class2'))\n",
    "df"
   ]
  },
  {
   "cell_type": "code",
   "execution_count": 22,
   "id": "9bf3cadf",
   "metadata": {},
   "outputs": [],
   "source": [
    "numer_stainer=SE.FTransformStainer(deg=1)"
   ]
  },
  {
   "cell_type": "code",
   "execution_count": 23,
   "id": "fcbbd30c",
   "metadata": {},
   "outputs": [],
   "source": [
    "new_df, a, b=numer_stainer.transform(df, rng, row_idx=[], col_idx=[1,2])"
   ]
  },
  {
   "cell_type": "code",
   "execution_count": 24,
   "id": "2fa43cd9",
   "metadata": {},
   "outputs": [
    {
     "data": {
      "text/plain": [
       "('Function Transform',\n",
       " 'Converted column class1 with transformation cubert. \\n Converted column class2 with transformation inverse. \\n ',\n",
       " 0.0025861263275146484)"
      ]
     },
     "execution_count": 24,
     "metadata": {},
     "output_type": "execute_result"
    }
   ],
   "source": [
    "numer_stainer.get_history()"
   ]
  },
  {
   "cell_type": "code",
   "execution_count": 25,
   "id": "91b04008",
   "metadata": {},
   "outputs": [],
   "source": [
    "null_stainer=SE.NullifyStainer(deg=0.5)"
   ]
  },
  {
   "cell_type": "code",
   "execution_count": 26,
   "id": "5d13485e",
   "metadata": {},
   "outputs": [],
   "source": [
    "new_df, a, b = null_stainer.transform(df, rng, row_idx=[0,1,2,3], col_idx=[0,1,2])"
   ]
  },
  {
   "cell_type": "code",
   "execution_count": 27,
   "id": "5aabff80",
   "metadata": {},
   "outputs": [
    {
     "data": {
      "text/html": [
       "<div>\n",
       "<style scoped>\n",
       "    .dataframe tbody tr th:only-of-type {\n",
       "        vertical-align: middle;\n",
       "    }\n",
       "\n",
       "    .dataframe tbody tr th {\n",
       "        vertical-align: top;\n",
       "    }\n",
       "\n",
       "    .dataframe thead th {\n",
       "        text-align: right;\n",
       "    }\n",
       "</style>\n",
       "<table border=\"1\" class=\"dataframe\">\n",
       "  <thead>\n",
       "    <tr style=\"text-align: right;\">\n",
       "      <th></th>\n",
       "      <th>id</th>\n",
       "      <th>class1</th>\n",
       "      <th>class2</th>\n",
       "    </tr>\n",
       "  </thead>\n",
       "  <tbody>\n",
       "    <tr>\n",
       "      <th>0</th>\n",
       "      <td>1.0</td>\n",
       "      <td>95.0</td>\n",
       "      <td>NaN</td>\n",
       "    </tr>\n",
       "    <tr>\n",
       "      <th>1</th>\n",
       "      <td>NaN</td>\n",
       "      <td>11.0</td>\n",
       "      <td>103.0</td>\n",
       "    </tr>\n",
       "    <tr>\n",
       "      <th>2</th>\n",
       "      <td>NaN</td>\n",
       "      <td>39.0</td>\n",
       "      <td>178.0</td>\n",
       "    </tr>\n",
       "    <tr>\n",
       "      <th>3</th>\n",
       "      <td>NaN</td>\n",
       "      <td>NaN</td>\n",
       "      <td>NaN</td>\n",
       "    </tr>\n",
       "    <tr>\n",
       "      <th>4</th>\n",
       "      <td>5.0</td>\n",
       "      <td>7.0</td>\n",
       "      <td>166.0</td>\n",
       "    </tr>\n",
       "  </tbody>\n",
       "</table>\n",
       "</div>"
      ],
      "text/plain": [
       "    id  class1  class2\n",
       "0  1.0    95.0     NaN\n",
       "1  NaN    11.0   103.0\n",
       "2  NaN    39.0   178.0\n",
       "3  NaN     NaN     NaN\n",
       "4  5.0     7.0   166.0"
      ]
     },
     "execution_count": 27,
     "metadata": {},
     "output_type": "execute_result"
    }
   ],
   "source": [
    "new_df"
   ]
  },
  {
   "cell_type": "code",
   "execution_count": 28,
   "id": "6761389e",
   "metadata": {},
   "outputs": [
    {
     "data": {
      "text/plain": [
       "('Nullify',\n",
       " 'Replaced 6 values to become empty in specificed rows/cols.',\n",
       " 0.001814126968383789)"
      ]
     },
     "execution_count": 28,
     "metadata": {},
     "output_type": "execute_result"
    }
   ],
   "source": [
    "null_stainer.get_history()"
   ]
  },
  {
   "cell_type": "code",
   "execution_count": 29,
   "id": "ed4b37ea",
   "metadata": {},
   "outputs": [],
   "source": [
    "bin_stainer=SE.BinningStainer()"
   ]
  },
  {
   "cell_type": "code",
   "execution_count": 30,
   "id": "01957283",
   "metadata": {},
   "outputs": [],
   "source": [
    "new_df, a, b=bin_stainer.transform(df, rng, col_idx=[2])"
   ]
  },
  {
   "cell_type": "code",
   "execution_count": 31,
   "id": "25849b34",
   "metadata": {},
   "outputs": [
    {
     "data": {
      "text/html": [
       "<div>\n",
       "<style scoped>\n",
       "    .dataframe tbody tr th:only-of-type {\n",
       "        vertical-align: middle;\n",
       "    }\n",
       "\n",
       "    .dataframe tbody tr th {\n",
       "        vertical-align: top;\n",
       "    }\n",
       "\n",
       "    .dataframe thead th {\n",
       "        text-align: right;\n",
       "    }\n",
       "</style>\n",
       "<table border=\"1\" class=\"dataframe\">\n",
       "  <thead>\n",
       "    <tr style=\"text-align: right;\">\n",
       "      <th></th>\n",
       "      <th>id</th>\n",
       "      <th>class</th>\n",
       "      <th>class2</th>\n",
       "    </tr>\n",
       "  </thead>\n",
       "  <tbody>\n",
       "    <tr>\n",
       "      <th>0</th>\n",
       "      <td>0</td>\n",
       "      <td>Cat Horse</td>\n",
       "      <td>Horse</td>\n",
       "    </tr>\n",
       "    <tr>\n",
       "      <th>1</th>\n",
       "      <td>1</td>\n",
       "      <td>Rabbit Cow</td>\n",
       "      <td>Cow</td>\n",
       "    </tr>\n",
       "    <tr>\n",
       "      <th>2</th>\n",
       "      <td>2</td>\n",
       "      <td>Dog Horse</td>\n",
       "      <td>Horse</td>\n",
       "    </tr>\n",
       "    <tr>\n",
       "      <th>3</th>\n",
       "      <td>3</td>\n",
       "      <td>Dog Cow</td>\n",
       "      <td>Cow</td>\n",
       "    </tr>\n",
       "    <tr>\n",
       "      <th>4</th>\n",
       "      <td>4</td>\n",
       "      <td>Dog Horse</td>\n",
       "      <td>Horse</td>\n",
       "    </tr>\n",
       "    <tr>\n",
       "      <th>...</th>\n",
       "      <td>...</td>\n",
       "      <td>...</td>\n",
       "      <td>...</td>\n",
       "    </tr>\n",
       "    <tr>\n",
       "      <th>95</th>\n",
       "      <td>95</td>\n",
       "      <td>Cat Cow</td>\n",
       "      <td>Cow</td>\n",
       "    </tr>\n",
       "    <tr>\n",
       "      <th>96</th>\n",
       "      <td>96</td>\n",
       "      <td>Cat Sheep</td>\n",
       "      <td>Sheep</td>\n",
       "    </tr>\n",
       "    <tr>\n",
       "      <th>97</th>\n",
       "      <td>97</td>\n",
       "      <td>Rabbit Cow</td>\n",
       "      <td>Cow</td>\n",
       "    </tr>\n",
       "    <tr>\n",
       "      <th>98</th>\n",
       "      <td>98</td>\n",
       "      <td>Dog Sheep</td>\n",
       "      <td>Sheep</td>\n",
       "    </tr>\n",
       "    <tr>\n",
       "      <th>99</th>\n",
       "      <td>99</td>\n",
       "      <td>Cat Horse</td>\n",
       "      <td>Horse</td>\n",
       "    </tr>\n",
       "  </tbody>\n",
       "</table>\n",
       "<p>100 rows × 3 columns</p>\n",
       "</div>"
      ],
      "text/plain": [
       "    id       class class2\n",
       "0    0   Cat Horse  Horse\n",
       "1    1  Rabbit Cow    Cow\n",
       "2    2   Dog Horse  Horse\n",
       "3    3     Dog Cow    Cow\n",
       "4    4   Dog Horse  Horse\n",
       "..  ..         ...    ...\n",
       "95  95     Cat Cow    Cow\n",
       "96  96   Cat Sheep  Sheep\n",
       "97  97  Rabbit Cow    Cow\n",
       "98  98   Dog Sheep  Sheep\n",
       "99  99   Cat Horse  Horse\n",
       "\n",
       "[100 rows x 3 columns]"
      ]
     },
     "execution_count": 31,
     "metadata": {},
     "output_type": "execute_result"
    }
   ],
   "source": [
    "cat_df = df2.copy()\n",
    "cat_df['class']=cat_df['class']+\" \"+cat_df['class2']\n",
    "cat_df"
   ]
  },
  {
   "cell_type": "code",
   "execution_count": 32,
   "id": "eea63e88",
   "metadata": {},
   "outputs": [],
   "source": [
    "col_stain=SE.ColumnSplitter(col_idx=[1])"
   ]
  },
  {
   "cell_type": "code",
   "execution_count": 143,
   "id": "b4132683",
   "metadata": {},
   "outputs": [
    {
     "data": {
      "text/plain": [
       "0      [Cat, Horse]\n",
       "1     [Rabbit, Cow]\n",
       "2      [Dog, Horse]\n",
       "3        [Dog, Cow]\n",
       "4      [Dog, Horse]\n",
       "          ...      \n",
       "95       [Cat, Cow]\n",
       "96     [Cat, Sheep]\n",
       "97    [Rabbit, Cow]\n",
       "98     [Dog, Sheep]\n",
       "99     [Cat, Horse]\n",
       "Name: class, Length: 100, dtype: object"
      ]
     },
     "execution_count": 143,
     "metadata": {},
     "output_type": "execute_result"
    }
   ],
   "source": [
    "cat_df.iloc[:, 1].str.split(\" \")"
   ]
  },
  {
   "cell_type": "markdown",
   "id": "4e6d599b",
   "metadata": {},
   "source": [
    "# Dirty DF"
   ]
  },
  {
   "cell_type": "code",
   "execution_count": 5,
   "id": "a45069e9",
   "metadata": {},
   "outputs": [],
   "source": [
    "import DirtyDF as ddf"
   ]
  },
  {
   "cell_type": "code",
   "execution_count": 15,
   "id": "60194a72",
   "metadata": {},
   "outputs": [],
   "source": [
    "animal = pd.DataFrame([(0, 'Cat'), (1, 'Dog'), (2, 'Rabbit'), (3, 'Cat'), (4, 'Cat'), (5, 'Dog')],\n",
    "                  columns=('id', 'class'))\n",
    "animal['numeric']=np.random.choice(range(1, 101), 6)\n",
    "animal[\"class\"] = animal[\"class\"].astype(\"category\")"
   ]
  },
  {
   "cell_type": "code",
   "execution_count": 21,
   "id": "1b86bcd2",
   "metadata": {},
   "outputs": [
    {
     "data": {
      "text/html": [
       "<div>\n",
       "<style scoped>\n",
       "    .dataframe tbody tr th:only-of-type {\n",
       "        vertical-align: middle;\n",
       "    }\n",
       "\n",
       "    .dataframe tbody tr th {\n",
       "        vertical-align: top;\n",
       "    }\n",
       "\n",
       "    .dataframe thead th {\n",
       "        text-align: right;\n",
       "    }\n",
       "</style>\n",
       "<table border=\"1\" class=\"dataframe\">\n",
       "  <thead>\n",
       "    <tr style=\"text-align: right;\">\n",
       "      <th></th>\n",
       "      <th>id</th>\n",
       "      <th>class</th>\n",
       "      <th>numeric</th>\n",
       "    </tr>\n",
       "  </thead>\n",
       "  <tbody>\n",
       "    <tr>\n",
       "      <th>0</th>\n",
       "      <td>0</td>\n",
       "      <td>Cat</td>\n",
       "      <td>9</td>\n",
       "    </tr>\n",
       "  </tbody>\n",
       "</table>\n",
       "</div>"
      ],
      "text/plain": [
       "   id class  numeric\n",
       "0   0   Cat        9"
      ]
     },
     "execution_count": 21,
     "metadata": {},
     "output_type": "execute_result"
    }
   ],
   "source": [
    "animal.head(1)"
   ]
  },
  {
   "cell_type": "code",
   "execution_count": 19,
   "id": "1b85f0d5",
   "metadata": {},
   "outputs": [],
   "source": [
    "animal_ddf = ddf.DirtyDF(animal, seed = 123)"
   ]
  },
  {
   "cell_type": "code",
   "execution_count": 44,
   "id": "967e53ce",
   "metadata": {},
   "outputs": [],
   "source": [
    "dupli_stainer=SE.RowDuplicateStainer(deg=0.5)"
   ]
  },
  {
   "cell_type": "code",
   "execution_count": 48,
   "id": "fcc0aa3f",
   "metadata": {},
   "outputs": [
    {
     "data": {
      "text/plain": [
       "'all'"
      ]
     },
     "execution_count": 48,
     "metadata": {},
     "output_type": "execute_result"
    }
   ],
   "source": [
    "dupli_stainer.get_col_type()"
   ]
  },
  {
   "cell_type": "code",
   "execution_count": 43,
   "id": "d4093ced",
   "metadata": {},
   "outputs": [
    {
     "data": {
      "text/plain": [
       "(9, 3)"
      ]
     },
     "execution_count": 43,
     "metadata": {},
     "output_type": "execute_result"
    }
   ],
   "source": [
    "new_df, a, b=dupli_stainer.transform(animal, rng)\n",
    "new_df.shape"
   ]
  },
  {
   "cell_type": "code",
   "execution_count": 54,
   "id": "06e78158",
   "metadata": {},
   "outputs": [],
   "source": [
    "# To shuffle rows of the df. No need to specify which rows or columns\n",
    "shuffle_stainer=SE.ShuffleStainer() \n",
    "# Duplicate certain rows. Set it to duplicate 50% of the dataframe rows. Eligible on all columns\n",
    "dupli_stainer=SE.RowDuplicateStainer(deg=0.5)\n",
    "# Alter string columns\n",
    "inflect_stainer=SE.InflectionStainer()"
   ]
  },
  {
   "cell_type": "code",
   "execution_count": 55,
   "id": "579dbc64",
   "metadata": {},
   "outputs": [],
   "source": [
    "animal_ddf_mult=animal_ddf.add_stainers([shuffle_stainer, dupli_stainer, inflect_stainer])"
   ]
  },
  {
   "cell_type": "code",
   "execution_count": 56,
   "id": "476d757a",
   "metadata": {},
   "outputs": [
    {
     "name": "stdout",
     "output_type": "stream",
     "text": [
      "1. Shuffle\n",
      "2. Add Duplicates\n",
      "3. Inflection\n"
     ]
    }
   ],
   "source": [
    "animal_ddf_mult.summarise_stainers()"
   ]
  },
  {
   "cell_type": "code",
   "execution_count": 57,
   "id": "e8eb1609",
   "metadata": {},
   "outputs": [],
   "source": [
    "animal_ddf_mult_out = animal_ddf_mult.run_all_stainers() #does the same as above"
   ]
  },
  {
   "cell_type": "code",
   "execution_count": 58,
   "id": "5a71fcef",
   "metadata": {},
   "outputs": [
    {
     "name": "stdout",
     "output_type": "stream",
     "text": [
      "1. Shuffle \n",
      " Order of rows randomized \n",
      " Time taken: 0.0016717910766601562 \n",
      "\n",
      "2. Add Duplicates \n",
      " Added Duplicate Rows for 3 rows. \n",
      "  Each duplicated row should appear a maximum of 2 times. \n",
      "  Rows added: 3 \n",
      " Time taken: 0.0026259422302246094 \n",
      "\n",
      "3. Inflection \n",
      " Categorical inflections on:\n",
      "{'class': {'Cat': ['cat', 'CAT', 'Cat', 'Cats'], 'Rabbit': ['rabbit', 'Rabbits', 'RABBIT', 'Rabbit'], 'Dog': ['Dog', 'Dogs', 'dog', 'DOG']}} \n",
      " Time taken: 0.022428274154663086 \n",
      "\n"
     ]
    }
   ],
   "source": [
    "animal_ddf_mult_out.print_history()"
   ]
  },
  {
   "cell_type": "code",
   "execution_count": 59,
   "id": "ed00c456",
   "metadata": {},
   "outputs": [
    {
     "data": {
      "text/html": [
       "<div>\n",
       "<style scoped>\n",
       "    .dataframe tbody tr th:only-of-type {\n",
       "        vertical-align: middle;\n",
       "    }\n",
       "\n",
       "    .dataframe tbody tr th {\n",
       "        vertical-align: top;\n",
       "    }\n",
       "\n",
       "    .dataframe thead th {\n",
       "        text-align: right;\n",
       "    }\n",
       "</style>\n",
       "<table border=\"1\" class=\"dataframe\">\n",
       "  <thead>\n",
       "    <tr style=\"text-align: right;\">\n",
       "      <th></th>\n",
       "      <th>id</th>\n",
       "      <th>class</th>\n",
       "      <th>numeric</th>\n",
       "    </tr>\n",
       "  </thead>\n",
       "  <tbody>\n",
       "    <tr>\n",
       "      <th>0</th>\n",
       "      <td>4</td>\n",
       "      <td>Cats</td>\n",
       "      <td>2</td>\n",
       "    </tr>\n",
       "    <tr>\n",
       "      <th>1</th>\n",
       "      <td>0</td>\n",
       "      <td>CAT</td>\n",
       "      <td>9</td>\n",
       "    </tr>\n",
       "    <tr>\n",
       "      <th>2</th>\n",
       "      <td>0</td>\n",
       "      <td>Cats</td>\n",
       "      <td>9</td>\n",
       "    </tr>\n",
       "    <tr>\n",
       "      <th>3</th>\n",
       "      <td>2</td>\n",
       "      <td>Rabbits</td>\n",
       "      <td>75</td>\n",
       "    </tr>\n",
       "    <tr>\n",
       "      <th>4</th>\n",
       "      <td>2</td>\n",
       "      <td>Rabbit</td>\n",
       "      <td>75</td>\n",
       "    </tr>\n",
       "    <tr>\n",
       "      <th>5</th>\n",
       "      <td>3</td>\n",
       "      <td>CAT</td>\n",
       "      <td>2</td>\n",
       "    </tr>\n",
       "    <tr>\n",
       "      <th>6</th>\n",
       "      <td>1</td>\n",
       "      <td>DOG</td>\n",
       "      <td>55</td>\n",
       "    </tr>\n",
       "    <tr>\n",
       "      <th>7</th>\n",
       "      <td>1</td>\n",
       "      <td>DOG</td>\n",
       "      <td>55</td>\n",
       "    </tr>\n",
       "    <tr>\n",
       "      <th>8</th>\n",
       "      <td>5</td>\n",
       "      <td>DOG</td>\n",
       "      <td>81</td>\n",
       "    </tr>\n",
       "  </tbody>\n",
       "</table>\n",
       "</div>"
      ],
      "text/plain": [
       "   id    class  numeric\n",
       "0   4     Cats        2\n",
       "1   0      CAT        9\n",
       "2   0     Cats        9\n",
       "3   2  Rabbits       75\n",
       "4   2   Rabbit       75\n",
       "5   3      CAT        2\n",
       "6   1      DOG       55\n",
       "7   1      DOG       55\n",
       "8   5      DOG       81"
      ]
     },
     "execution_count": 59,
     "metadata": {},
     "output_type": "execute_result"
    }
   ],
   "source": [
    "animal_ddf_mult_out.get_df()"
   ]
  },
  {
   "cell_type": "code",
   "execution_count": 60,
   "id": "fa8859c9",
   "metadata": {},
   "outputs": [
    {
     "data": {
      "text/html": [
       "<div>\n",
       "<style scoped>\n",
       "    .dataframe tbody tr th:only-of-type {\n",
       "        vertical-align: middle;\n",
       "    }\n",
       "\n",
       "    .dataframe tbody tr th {\n",
       "        vertical-align: top;\n",
       "    }\n",
       "\n",
       "    .dataframe thead th {\n",
       "        text-align: right;\n",
       "    }\n",
       "</style>\n",
       "<table border=\"1\" class=\"dataframe\">\n",
       "  <thead>\n",
       "    <tr style=\"text-align: right;\">\n",
       "      <th></th>\n",
       "      <th>id</th>\n",
       "      <th>class</th>\n",
       "      <th>numeric</th>\n",
       "    </tr>\n",
       "  </thead>\n",
       "  <tbody>\n",
       "    <tr>\n",
       "      <th>0</th>\n",
       "      <td>0</td>\n",
       "      <td>Cat</td>\n",
       "      <td>9</td>\n",
       "    </tr>\n",
       "    <tr>\n",
       "      <th>1</th>\n",
       "      <td>1</td>\n",
       "      <td>Dog</td>\n",
       "      <td>55</td>\n",
       "    </tr>\n",
       "    <tr>\n",
       "      <th>2</th>\n",
       "      <td>2</td>\n",
       "      <td>Rabbit</td>\n",
       "      <td>75</td>\n",
       "    </tr>\n",
       "    <tr>\n",
       "      <th>3</th>\n",
       "      <td>3</td>\n",
       "      <td>Cat</td>\n",
       "      <td>2</td>\n",
       "    </tr>\n",
       "    <tr>\n",
       "      <th>4</th>\n",
       "      <td>4</td>\n",
       "      <td>Cat</td>\n",
       "      <td>2</td>\n",
       "    </tr>\n",
       "    <tr>\n",
       "      <th>5</th>\n",
       "      <td>5</td>\n",
       "      <td>Dog</td>\n",
       "      <td>81</td>\n",
       "    </tr>\n",
       "  </tbody>\n",
       "</table>\n",
       "</div>"
      ],
      "text/plain": [
       "   id   class  numeric\n",
       "0   0     Cat        9\n",
       "1   1     Dog       55\n",
       "2   2  Rabbit       75\n",
       "3   3     Cat        2\n",
       "4   4     Cat        2\n",
       "5   5     Dog       81"
      ]
     },
     "execution_count": 60,
     "metadata": {},
     "output_type": "execute_result"
    }
   ],
   "source": [
    "animal_ddf.get_df()"
   ]
  },
  {
   "cell_type": "code",
   "execution_count": null,
   "id": "60590b3f",
   "metadata": {},
   "outputs": [],
   "source": []
  }
 ],
 "metadata": {
  "kernelspec": {
   "display_name": "Python 3 (ipykernel)",
   "language": "python",
   "name": "python3"
  },
  "language_info": {
   "codemirror_mode": {
    "name": "ipython",
    "version": 3
   },
   "file_extension": ".py",
   "mimetype": "text/x-python",
   "name": "python",
   "nbconvert_exporter": "python",
   "pygments_lexer": "ipython3",
   "version": "3.8.13"
  },
  "toc": {
   "base_numbering": 1,
   "nav_menu": {},
   "number_sections": false,
   "sideBar": true,
   "skip_h1_title": false,
   "title_cell": "Table of Contents",
   "title_sidebar": "Contents",
   "toc_cell": false,
   "toc_position": {},
   "toc_section_display": true,
   "toc_window_display": true
  }
 },
 "nbformat": 4,
 "nbformat_minor": 5
}
