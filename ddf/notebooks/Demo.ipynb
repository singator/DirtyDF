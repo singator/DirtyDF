{
 "cells": [
  {
   "cell_type": "code",
   "execution_count": 1,
   "id": "afddf440",
   "metadata": {
    "ExecuteTime": {
     "end_time": "2022-08-16T16:43:02.585530Z",
     "start_time": "2022-08-16T16:43:02.222063Z"
    }
   },
   "outputs": [],
   "source": [
    "import random\n",
    "import numpy as np\n",
    "import pandas as pd\n",
    "# from scipy.optimize import basinhopping\n",
    "# from sklearn.metrics import mutual_info_score\n",
    "from tqdm.notebook import tqdm_notebook\n",
    "import time"
   ]
  },
  {
   "cell_type": "code",
   "execution_count": 2,
   "id": "61a0dca5",
   "metadata": {
    "ExecuteTime": {
     "end_time": "2022-08-16T16:43:03.037490Z",
     "start_time": "2022-08-16T16:43:02.588417Z"
    }
   },
   "outputs": [],
   "source": [
    "import sys\n",
    "sys.path.insert(0, \"../ddf/\")\n",
    "import stainer as ST\n",
    "import DirtyDF as ddf"
   ]
  },
  {
   "cell_type": "code",
   "execution_count": 3,
   "id": "1bff33c7",
   "metadata": {
    "ExecuteTime": {
     "end_time": "2022-08-16T16:43:03.053254Z",
     "start_time": "2022-08-16T16:43:03.040135Z"
    },
    "scrolled": true
   },
   "outputs": [
    {
     "data": {
      "text/plain": [
       "<module 'stainer' from '/Users/carelchay/PycharmProjects/dirty_dataframe/ddf/notebooks/../ddf/stainer.py'>"
      ]
     },
     "execution_count": 3,
     "metadata": {},
     "output_type": "execute_result"
    }
   ],
   "source": [
    "import importlib\n",
    "importlib.reload(ST)"
   ]
  },
  {
   "cell_type": "markdown",
   "id": "b471e5f4",
   "metadata": {},
   "source": [
    "# Telco Example"
   ]
  },
  {
   "cell_type": "code",
   "execution_count": 4,
   "id": "5b344eeb",
   "metadata": {
    "ExecuteTime": {
     "end_time": "2022-08-16T16:43:03.093978Z",
     "start_time": "2022-08-16T16:43:03.058852Z"
    }
   },
   "outputs": [],
   "source": [
    "df = pd.read_csv(\"../../data/Telco-Customer-Churn.csv\")"
   ]
  },
  {
   "cell_type": "code",
   "execution_count": 5,
   "id": "c063edaf",
   "metadata": {
    "ExecuteTime": {
     "end_time": "2022-08-16T16:43:03.129764Z",
     "start_time": "2022-08-16T16:43:03.096810Z"
    }
   },
   "outputs": [],
   "source": [
    "# Need to manually convert to categorical types\n",
    "df[df.columns.difference(['customerID', 'SeniorCitizen', 'tenure', 'MonthlyCharges', \n",
    "                          'TotalCharges'])]=\\\n",
    "    df[df.columns.difference(['customerID', 'SeniorCitizen', 'tenure', 'MonthlyCharges', \n",
    "                              'TotalCharges'])].astype('category')\n",
    "    "
   ]
  },
  {
   "cell_type": "code",
   "execution_count": 6,
   "id": "5cbf83d7",
   "metadata": {
    "ExecuteTime": {
     "end_time": "2022-08-16T16:43:03.142170Z",
     "start_time": "2022-08-16T16:43:03.132183Z"
    }
   },
   "outputs": [],
   "source": [
    "# Create DDF object\n",
    "telco_ddf = ddf.DirtyDF(df, seed=2101)"
   ]
  },
  {
   "cell_type": "code",
   "execution_count": 7,
   "id": "30bcdcda",
   "metadata": {
    "ExecuteTime": {
     "end_time": "2022-08-16T16:43:03.150925Z",
     "start_time": "2022-08-16T16:43:03.145272Z"
    }
   },
   "outputs": [
    {
     "name": "stdout",
     "output_type": "stream",
     "text": [
      "[1, 3, 4, 6, 7, 8, 9, 10, 11, 12, 13, 14, 15, 16, 17, 20]\n",
      "[2, 5, 18, 19]\n",
      "[]\n"
     ]
    }
   ],
   "source": [
    "# Check for the column types\n",
    "print(telco_ddf.cat_cols)\n",
    "print(telco_ddf.num_cols)\n",
    "print(telco_ddf.dt_cols)"
   ]
  },
  {
   "cell_type": "code",
   "execution_count": 8,
   "id": "48d6d036",
   "metadata": {
    "ExecuteTime": {
     "end_time": "2022-08-16T16:43:03.161781Z",
     "start_time": "2022-08-16T16:43:03.153962Z"
    }
   },
   "outputs": [
    {
     "data": {
      "text/plain": [
       "customerID            object\n",
       "gender              category\n",
       "SeniorCitizen          int64\n",
       "Partner             category\n",
       "Dependents          category\n",
       "tenure                 int64\n",
       "PhoneService        category\n",
       "MultipleLines       category\n",
       "InternetService     category\n",
       "OnlineSecurity      category\n",
       "OnlineBackup        category\n",
       "DeviceProtection    category\n",
       "TechSupport         category\n",
       "StreamingTV         category\n",
       "StreamingMovies     category\n",
       "Contract            category\n",
       "PaperlessBilling    category\n",
       "PaymentMethod       category\n",
       "MonthlyCharges       float64\n",
       "TotalCharges         float64\n",
       "Churn               category\n",
       "dtype: object"
      ]
     },
     "execution_count": 8,
     "metadata": {},
     "output_type": "execute_result"
    }
   ],
   "source": [
    "df.dtypes"
   ]
  },
  {
   "cell_type": "code",
   "execution_count": 9,
   "id": "be232058",
   "metadata": {
    "ExecuteTime": {
     "end_time": "2022-08-16T16:43:03.201869Z",
     "start_time": "2022-08-16T16:43:03.166721Z"
    }
   },
   "outputs": [
    {
     "data": {
      "text/html": [
       "<div>\n",
       "<style scoped>\n",
       "    .dataframe tbody tr th:only-of-type {\n",
       "        vertical-align: middle;\n",
       "    }\n",
       "\n",
       "    .dataframe tbody tr th {\n",
       "        vertical-align: top;\n",
       "    }\n",
       "\n",
       "    .dataframe thead th {\n",
       "        text-align: right;\n",
       "    }\n",
       "</style>\n",
       "<table border=\"1\" class=\"dataframe\">\n",
       "  <thead>\n",
       "    <tr style=\"text-align: right;\">\n",
       "      <th></th>\n",
       "      <th>customerID</th>\n",
       "      <th>gender</th>\n",
       "      <th>SeniorCitizen</th>\n",
       "      <th>Partner</th>\n",
       "      <th>Dependents</th>\n",
       "      <th>tenure</th>\n",
       "      <th>PhoneService</th>\n",
       "      <th>MultipleLines</th>\n",
       "      <th>InternetService</th>\n",
       "      <th>OnlineSecurity</th>\n",
       "      <th>...</th>\n",
       "      <th>DeviceProtection</th>\n",
       "      <th>TechSupport</th>\n",
       "      <th>StreamingTV</th>\n",
       "      <th>StreamingMovies</th>\n",
       "      <th>Contract</th>\n",
       "      <th>PaperlessBilling</th>\n",
       "      <th>PaymentMethod</th>\n",
       "      <th>MonthlyCharges</th>\n",
       "      <th>TotalCharges</th>\n",
       "      <th>Churn</th>\n",
       "    </tr>\n",
       "  </thead>\n",
       "  <tbody>\n",
       "    <tr>\n",
       "      <th>0</th>\n",
       "      <td>7590-VHVEG</td>\n",
       "      <td>Female</td>\n",
       "      <td>0</td>\n",
       "      <td>Yes</td>\n",
       "      <td>No</td>\n",
       "      <td>1</td>\n",
       "      <td>No</td>\n",
       "      <td>No phone service</td>\n",
       "      <td>DSL</td>\n",
       "      <td>No</td>\n",
       "      <td>...</td>\n",
       "      <td>No</td>\n",
       "      <td>No</td>\n",
       "      <td>No</td>\n",
       "      <td>No</td>\n",
       "      <td>Month-to-month</td>\n",
       "      <td>Yes</td>\n",
       "      <td>Electronic check</td>\n",
       "      <td>29.85</td>\n",
       "      <td>29.85</td>\n",
       "      <td>No</td>\n",
       "    </tr>\n",
       "    <tr>\n",
       "      <th>1</th>\n",
       "      <td>5575-GNVDE</td>\n",
       "      <td>Male</td>\n",
       "      <td>0</td>\n",
       "      <td>No</td>\n",
       "      <td>No</td>\n",
       "      <td>34</td>\n",
       "      <td>Yes</td>\n",
       "      <td>No</td>\n",
       "      <td>DSL</td>\n",
       "      <td>Yes</td>\n",
       "      <td>...</td>\n",
       "      <td>Yes</td>\n",
       "      <td>No</td>\n",
       "      <td>No</td>\n",
       "      <td>No</td>\n",
       "      <td>One year</td>\n",
       "      <td>No</td>\n",
       "      <td>Mailed check</td>\n",
       "      <td>56.95</td>\n",
       "      <td>1889.50</td>\n",
       "      <td>No</td>\n",
       "    </tr>\n",
       "    <tr>\n",
       "      <th>2</th>\n",
       "      <td>3668-QPYBK</td>\n",
       "      <td>Male</td>\n",
       "      <td>0</td>\n",
       "      <td>No</td>\n",
       "      <td>No</td>\n",
       "      <td>2</td>\n",
       "      <td>Yes</td>\n",
       "      <td>No</td>\n",
       "      <td>DSL</td>\n",
       "      <td>Yes</td>\n",
       "      <td>...</td>\n",
       "      <td>No</td>\n",
       "      <td>No</td>\n",
       "      <td>No</td>\n",
       "      <td>No</td>\n",
       "      <td>Month-to-month</td>\n",
       "      <td>Yes</td>\n",
       "      <td>Mailed check</td>\n",
       "      <td>53.85</td>\n",
       "      <td>108.15</td>\n",
       "      <td>Yes</td>\n",
       "    </tr>\n",
       "    <tr>\n",
       "      <th>3</th>\n",
       "      <td>7795-CFOCW</td>\n",
       "      <td>Male</td>\n",
       "      <td>0</td>\n",
       "      <td>No</td>\n",
       "      <td>No</td>\n",
       "      <td>45</td>\n",
       "      <td>No</td>\n",
       "      <td>No phone service</td>\n",
       "      <td>DSL</td>\n",
       "      <td>Yes</td>\n",
       "      <td>...</td>\n",
       "      <td>Yes</td>\n",
       "      <td>Yes</td>\n",
       "      <td>No</td>\n",
       "      <td>No</td>\n",
       "      <td>One year</td>\n",
       "      <td>No</td>\n",
       "      <td>Bank transfer (automatic)</td>\n",
       "      <td>42.30</td>\n",
       "      <td>1840.75</td>\n",
       "      <td>No</td>\n",
       "    </tr>\n",
       "    <tr>\n",
       "      <th>4</th>\n",
       "      <td>9237-HQITU</td>\n",
       "      <td>Female</td>\n",
       "      <td>0</td>\n",
       "      <td>No</td>\n",
       "      <td>No</td>\n",
       "      <td>2</td>\n",
       "      <td>Yes</td>\n",
       "      <td>No</td>\n",
       "      <td>Fiber optic</td>\n",
       "      <td>No</td>\n",
       "      <td>...</td>\n",
       "      <td>No</td>\n",
       "      <td>No</td>\n",
       "      <td>No</td>\n",
       "      <td>No</td>\n",
       "      <td>Month-to-month</td>\n",
       "      <td>Yes</td>\n",
       "      <td>Electronic check</td>\n",
       "      <td>70.70</td>\n",
       "      <td>151.65</td>\n",
       "      <td>Yes</td>\n",
       "    </tr>\n",
       "  </tbody>\n",
       "</table>\n",
       "<p>5 rows × 21 columns</p>\n",
       "</div>"
      ],
      "text/plain": [
       "   customerID  gender  SeniorCitizen Partner Dependents  tenure PhoneService  \\\n",
       "0  7590-VHVEG  Female              0     Yes         No       1           No   \n",
       "1  5575-GNVDE    Male              0      No         No      34          Yes   \n",
       "2  3668-QPYBK    Male              0      No         No       2          Yes   \n",
       "3  7795-CFOCW    Male              0      No         No      45           No   \n",
       "4  9237-HQITU  Female              0      No         No       2          Yes   \n",
       "\n",
       "      MultipleLines InternetService OnlineSecurity  ... DeviceProtection  \\\n",
       "0  No phone service             DSL             No  ...               No   \n",
       "1                No             DSL            Yes  ...              Yes   \n",
       "2                No             DSL            Yes  ...               No   \n",
       "3  No phone service             DSL            Yes  ...              Yes   \n",
       "4                No     Fiber optic             No  ...               No   \n",
       "\n",
       "  TechSupport StreamingTV StreamingMovies        Contract PaperlessBilling  \\\n",
       "0          No          No              No  Month-to-month              Yes   \n",
       "1          No          No              No        One year               No   \n",
       "2          No          No              No  Month-to-month              Yes   \n",
       "3         Yes          No              No        One year               No   \n",
       "4          No          No              No  Month-to-month              Yes   \n",
       "\n",
       "               PaymentMethod MonthlyCharges  TotalCharges  Churn  \n",
       "0           Electronic check          29.85         29.85     No  \n",
       "1               Mailed check          56.95       1889.50     No  \n",
       "2               Mailed check          53.85        108.15    Yes  \n",
       "3  Bank transfer (automatic)          42.30       1840.75     No  \n",
       "4           Electronic check          70.70        151.65    Yes  \n",
       "\n",
       "[5 rows x 21 columns]"
      ]
     },
     "execution_count": 9,
     "metadata": {},
     "output_type": "execute_result"
    }
   ],
   "source": [
    "df.head()"
   ]
  },
  {
   "cell_type": "markdown",
   "id": "3784fecb",
   "metadata": {},
   "source": [
    "## Stainers used for trial\n",
    "\n",
    "1. Row Duplication (on `customerID`)\n",
    "2. Mutual Information (on `Contract` & `Churn`)\n",
    "3. Inflection (on `PaymentMethod` & `Contract`)\n",
    "4. Nullify Stainer (on `TotalCharges`)"
   ]
  },
  {
   "cell_type": "code",
   "execution_count": 11,
   "id": "c68756a1",
   "metadata": {
    "ExecuteTime": {
     "end_time": "2022-08-16T16:43:03.228910Z",
     "start_time": "2022-08-16T16:43:03.214649Z"
    }
   },
   "outputs": [],
   "source": [
    "# Create DDF object\n",
    "telco_ddf = ddf.DirtyDF(df, seed=2101)\n",
    "\n",
    "## Instantiate Stainers ##\n",
    "\n",
    "# Duplication Stainer\n",
    "dupli_stainer=ST.RowDuplicateStainer(deg=0.2, max_rep=3) \n",
    "# Mutual Information\n",
    "mut_stainer=ST.CatCorrStainer(col_idx=[15, 20], max_n=50000, min_inf=0.4)\n",
    "# Inflection stainer. Need to specify column idxs in list\n",
    "inflection_stainer=ST.InflectionStainer(num_format=3, col_idx=[15, 17])\n",
    "# Nullify Stainer\n",
    "null_stainer=ST.NullifyStainer(deg=0.25, col_idx=[18])"
   ]
  },
  {
   "cell_type": "code",
   "execution_count": 12,
   "id": "cefc9c43",
   "metadata": {
    "ExecuteTime": {
     "end_time": "2022-08-16T16:43:03.242850Z",
     "start_time": "2022-08-16T16:43:03.231445Z"
    }
   },
   "outputs": [],
   "source": [
    "## Add Stainers ##\n",
    "telco_ddf=telco_ddf.add_stainers([dupli_stainer, mut_stainer, inflection_stainer, null_stainer])"
   ]
  },
  {
   "cell_type": "code",
   "execution_count": 13,
   "id": "6a113fc4",
   "metadata": {
    "ExecuteTime": {
     "end_time": "2022-08-16T16:43:07.328403Z",
     "start_time": "2022-08-16T16:43:03.246322Z"
    },
    "scrolled": true
   },
   "outputs": [],
   "source": [
    "## Run Stainers ##\n",
    "telco_ddf=telco_ddf.run_all_stainers()"
   ]
  },
  {
   "cell_type": "code",
   "execution_count": 14,
   "id": "23539913",
   "metadata": {
    "ExecuteTime": {
     "end_time": "2022-08-16T16:43:07.336213Z",
     "start_time": "2022-08-16T16:43:07.330736Z"
    },
    "scrolled": true
   },
   "outputs": [
    {
     "name": "stdout",
     "output_type": "stream",
     "text": [
      "1. Add Duplicates \n",
      " Added Duplicate Rows for 1408 rows. \n",
      "  Each duplicated row should appear a maximum of 3 times. \n",
      "  Rows added: 2110 \n",
      " Time taken: 0.08050370216369629 \n",
      "\n",
      "2. CatCorr \n",
      " Old Mutual Information was 0.1401538385374521, new Mutual Information is 0.28488443942160435 \n",
      " Time taken: 3.7666208744049072 \n",
      "\n",
      "3. Inflection \n",
      " Categorical inflections on:\n",
      "{'PaymentMethod': {'Electronic check': ['Electronic check', 'electronic check'], 'Mailed check': ['Mailed check', 'mailed check'], 'Bank transfer (automatic)': ['Bank transfer (automatic)', 'bank transfer (automatic)'], 'Credit card (automatic)': ['Credit card (automatic)', 'credit card (automatic)']}, 'Contract': {'Month-to-month': ['Month To Month', 'Month-to-month'], 'One year': ['One Year', 'One year'], 'Two year': ['Two Year', 'Two year']}} \n",
      " Time taken: 0.01322484016418457 \n",
      "\n",
      "4. Nullify \n",
      " Replaced 2288 values to become empty in specificed rows/cols. \n",
      " Time taken: 0.12383913993835449 \n",
      "\n"
     ]
    }
   ],
   "source": [
    "telco_ddf.print_history()"
   ]
  },
  {
   "cell_type": "code",
   "execution_count": 15,
   "id": "00899ca8",
   "metadata": {
    "ExecuteTime": {
     "end_time": "2022-08-16T16:43:07.343494Z",
     "start_time": "2022-08-16T16:43:07.340479Z"
    }
   },
   "outputs": [],
   "source": [
    "stained_df = telco_ddf.get_df()"
   ]
  },
  {
   "cell_type": "code",
   "execution_count": 17,
   "id": "918dedd9",
   "metadata": {
    "ExecuteTime": {
     "end_time": "2022-08-16T16:43:48.699071Z",
     "start_time": "2022-08-16T16:43:48.670382Z"
    }
   },
   "outputs": [
    {
     "data": {
      "text/html": [
       "<div>\n",
       "<style scoped>\n",
       "    .dataframe tbody tr th:only-of-type {\n",
       "        vertical-align: middle;\n",
       "    }\n",
       "\n",
       "    .dataframe tbody tr th {\n",
       "        vertical-align: top;\n",
       "    }\n",
       "\n",
       "    .dataframe thead th {\n",
       "        text-align: right;\n",
       "    }\n",
       "</style>\n",
       "<table border=\"1\" class=\"dataframe\">\n",
       "  <thead>\n",
       "    <tr style=\"text-align: right;\">\n",
       "      <th>Contract</th>\n",
       "      <th>Month To Month</th>\n",
       "      <th>Month-to-month</th>\n",
       "      <th>One Year</th>\n",
       "      <th>One year</th>\n",
       "      <th>Two Year</th>\n",
       "      <th>Two year</th>\n",
       "    </tr>\n",
       "    <tr>\n",
       "      <th>Churn</th>\n",
       "      <th></th>\n",
       "      <th></th>\n",
       "      <th></th>\n",
       "      <th></th>\n",
       "      <th></th>\n",
       "      <th></th>\n",
       "    </tr>\n",
       "  </thead>\n",
       "  <tbody>\n",
       "    <tr>\n",
       "      <th>No</th>\n",
       "      <td>1309</td>\n",
       "      <td>1292</td>\n",
       "      <td>949</td>\n",
       "      <td>987</td>\n",
       "      <td>1108</td>\n",
       "      <td>1096</td>\n",
       "    </tr>\n",
       "    <tr>\n",
       "      <th>Yes</th>\n",
       "      <td>1200</td>\n",
       "      <td>1212</td>\n",
       "      <td>0</td>\n",
       "      <td>0</td>\n",
       "      <td>0</td>\n",
       "      <td>0</td>\n",
       "    </tr>\n",
       "  </tbody>\n",
       "</table>\n",
       "</div>"
      ],
      "text/plain": [
       "Contract  Month To Month  Month-to-month  One Year  One year  Two Year  \\\n",
       "Churn                                                                    \n",
       "No                  1309            1292       949       987      1108   \n",
       "Yes                 1200            1212         0         0         0   \n",
       "\n",
       "Contract  Two year  \n",
       "Churn               \n",
       "No            1096  \n",
       "Yes              0  "
      ]
     },
     "execution_count": 17,
     "metadata": {},
     "output_type": "execute_result"
    }
   ],
   "source": [
    "pd.crosstab(stained_df['Churn'], \n",
    "           stained_df['Contract'])"
   ]
  },
  {
   "cell_type": "code",
   "execution_count": 18,
   "id": "55ecbad4",
   "metadata": {
    "ExecuteTime": {
     "end_time": "2022-08-16T16:44:12.298263Z",
     "start_time": "2022-08-16T16:44:12.272878Z"
    }
   },
   "outputs": [
    {
     "data": {
      "text/html": [
       "<div>\n",
       "<style scoped>\n",
       "    .dataframe tbody tr th:only-of-type {\n",
       "        vertical-align: middle;\n",
       "    }\n",
       "\n",
       "    .dataframe tbody tr th {\n",
       "        vertical-align: top;\n",
       "    }\n",
       "\n",
       "    .dataframe thead th {\n",
       "        text-align: right;\n",
       "    }\n",
       "</style>\n",
       "<table border=\"1\" class=\"dataframe\">\n",
       "  <thead>\n",
       "    <tr style=\"text-align: right;\">\n",
       "      <th>Contract</th>\n",
       "      <th>Month-to-month</th>\n",
       "      <th>One year</th>\n",
       "      <th>Two year</th>\n",
       "    </tr>\n",
       "    <tr>\n",
       "      <th>Churn</th>\n",
       "      <th></th>\n",
       "      <th></th>\n",
       "      <th></th>\n",
       "    </tr>\n",
       "  </thead>\n",
       "  <tbody>\n",
       "    <tr>\n",
       "      <th>No</th>\n",
       "      <td>2220</td>\n",
       "      <td>1307</td>\n",
       "      <td>1647</td>\n",
       "    </tr>\n",
       "    <tr>\n",
       "      <th>Yes</th>\n",
       "      <td>1655</td>\n",
       "      <td>166</td>\n",
       "      <td>48</td>\n",
       "    </tr>\n",
       "  </tbody>\n",
       "</table>\n",
       "</div>"
      ],
      "text/plain": [
       "Contract  Month-to-month  One year  Two year\n",
       "Churn                                       \n",
       "No                  2220      1307      1647\n",
       "Yes                 1655       166        48"
      ]
     },
     "execution_count": 18,
     "metadata": {},
     "output_type": "execute_result"
    }
   ],
   "source": [
    "pd.crosstab(df['Churn'], \n",
    "           df['Contract'])"
   ]
  },
  {
   "cell_type": "code",
   "execution_count": null,
   "id": "9ce9e529",
   "metadata": {},
   "outputs": [],
   "source": []
  }
 ],
 "metadata": {
  "kernelspec": {
   "display_name": "Python 3 (ipykernel)",
   "language": "python",
   "name": "python3"
  },
  "language_info": {
   "codemirror_mode": {
    "name": "ipython",
    "version": 3
   },
   "file_extension": ".py",
   "mimetype": "text/x-python",
   "name": "python",
   "nbconvert_exporter": "python",
   "pygments_lexer": "ipython3",
   "version": "3.8.13"
  },
  "toc": {
   "base_numbering": 1,
   "nav_menu": {},
   "number_sections": false,
   "sideBar": true,
   "skip_h1_title": false,
   "title_cell": "Table of Contents",
   "title_sidebar": "Contents",
   "toc_cell": false,
   "toc_position": {
    "height": "calc(100% - 180px)",
    "left": "10px",
    "top": "150px",
    "width": "165px"
   },
   "toc_section_display": true,
   "toc_window_display": true
  }
 },
 "nbformat": 4,
 "nbformat_minor": 5
}
