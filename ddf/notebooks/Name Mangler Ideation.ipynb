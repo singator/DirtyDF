{
 "cells": [
  {
   "cell_type": "markdown",
   "id": "066d5378",
   "metadata": {},
   "source": [
    "# Introduction\n",
    "\n",
    "Coming up with a name mangler for fullnames based on techniques mentioned [here](https://www.rosette.com/blog/overview-fuzzy-name-matching-techniques/)"
   ]
  },
  {
   "cell_type": "code",
   "execution_count": 190,
   "id": "35f1d1e3",
   "metadata": {
    "ExecuteTime": {
     "end_time": "2022-08-19T16:08:18.381806Z",
     "start_time": "2022-08-19T16:08:18.377872Z"
    }
   },
   "outputs": [],
   "source": [
    "import random\n",
    "import numpy as np\n",
    "import pandas as pd\n",
    "# from scipy.optimize import basinhopping\n",
    "# from sklearn.metrics import mutual_info_score\n",
    "from tqdm import tqdm\n",
    "import time\n",
    "import re"
   ]
  },
  {
   "cell_type": "code",
   "execution_count": 191,
   "id": "497bdee0",
   "metadata": {
    "ExecuteTime": {
     "end_time": "2022-08-19T16:08:18.684900Z",
     "start_time": "2022-08-19T16:08:18.680551Z"
    }
   },
   "outputs": [],
   "source": [
    "tqdm.pandas()"
   ]
  },
  {
   "cell_type": "code",
   "execution_count": 180,
   "id": "784635f7",
   "metadata": {
    "ExecuteTime": {
     "end_time": "2022-08-19T16:05:33.847467Z",
     "start_time": "2022-08-19T16:05:33.836293Z"
    }
   },
   "outputs": [],
   "source": [
    "name_df = pd.read_csv(\"../../data/namelist.csv\")"
   ]
  },
  {
   "cell_type": "code",
   "execution_count": 181,
   "id": "a579bfed",
   "metadata": {
    "ExecuteTime": {
     "end_time": "2022-08-19T16:05:39.037144Z",
     "start_time": "2022-08-19T16:05:39.033265Z"
    }
   },
   "outputs": [],
   "source": [
    "# Remove leading and trailing whitespace (there isn't any but just in case)\n",
    "name_df['Name'] = name_df['Name'].str.strip()\n",
    "# Separate into firstname and lastname\n",
    "# name_df[['firstname', 'lastname']]=name_df['Name'].str.split(\" \", expand=True)"
   ]
  },
  {
   "cell_type": "code",
   "execution_count": 182,
   "id": "39ff95f4",
   "metadata": {
    "ExecuteTime": {
     "end_time": "2022-08-19T16:05:39.457978Z",
     "start_time": "2022-08-19T16:05:39.449419Z"
    }
   },
   "outputs": [
    {
     "data": {
      "text/html": [
       "<div>\n",
       "<style scoped>\n",
       "    .dataframe tbody tr th:only-of-type {\n",
       "        vertical-align: middle;\n",
       "    }\n",
       "\n",
       "    .dataframe tbody tr th {\n",
       "        vertical-align: top;\n",
       "    }\n",
       "\n",
       "    .dataframe thead th {\n",
       "        text-align: right;\n",
       "    }\n",
       "</style>\n",
       "<table border=\"1\" class=\"dataframe\">\n",
       "  <thead>\n",
       "    <tr style=\"text-align: right;\">\n",
       "      <th></th>\n",
       "      <th>Name</th>\n",
       "    </tr>\n",
       "  </thead>\n",
       "  <tbody>\n",
       "    <tr>\n",
       "      <th>0</th>\n",
       "      <td>Tristian Wunsch</td>\n",
       "    </tr>\n",
       "    <tr>\n",
       "      <th>1</th>\n",
       "      <td>Rosamond Klocko</td>\n",
       "    </tr>\n",
       "  </tbody>\n",
       "</table>\n",
       "</div>"
      ],
      "text/plain": [
       "              Name\n",
       "0  Tristian Wunsch\n",
       "1  Rosamond Klocko"
      ]
     },
     "execution_count": 182,
     "metadata": {},
     "output_type": "execute_result"
    }
   ],
   "source": [
    "name_df.head(2)"
   ]
  },
  {
   "cell_type": "markdown",
   "id": "f46ff195",
   "metadata": {},
   "source": [
    "# Dirtying ideas\n",
    "\n",
    "Some of the cleanup methods mentioend [here](https://www.rosette.com/blog/overview-fuzzy-name-matching-techniques/), can be reversed to formualate certain methods for \"dirtying\" the names. \n",
    "\n",
    "These include : \n",
    "\n",
    "1. Inserting / Deleting spaces, adding hyphens / periods \n",
    "    - Mary Ellen -> MaryEllen / Mary-Ellen / Mary. Ellen\n",
    "<br><br>\n",
    "2. Adding Titles and honorifics. Can Either Be at the start or at the end\n",
    "    - Tim Jones -> Tim Jones Ph.D / Dr. Tim Jones / Mr. Tim Jones / Tim Jones, MD\n",
    "<br><br>    \n",
    "3. Adding hyphens for Surnames with two parts, or hyphen after a vowel\n",
    "    - Ronald McDonald -> Ronald Mc-Donald\n",
    "    - Huang Bien -> Huang Bi-En\n",
    "<br><br>\n",
    "\n",
    "Any of these 3 methods can be called multiple times on the same name. For example : \n",
    "\n",
    "Ronald McDonald -*M2*-> Dr. Ronald McDonald -*M3*-> Dr. Ronald Mc-Donald -*M1*-> Dr. Ronald. Mc-Donald\n",
    "-*M2*-> Dr. Ronald. Mc-Donald, MD\n",
    "\n",
    "# Tracking correct names\n",
    "\n",
    "To track what the original correct name was, we can have a unique identifier field for each name in a row in the data. Just need to ensure the unique identifier isn't altered.\n",
    "\n",
    "# Implementation\n",
    "\n"
   ]
  },
  {
   "cell_type": "code",
   "execution_count": 185,
   "id": "2f528551",
   "metadata": {
    "ExecuteTime": {
     "end_time": "2022-08-19T16:06:38.405705Z",
     "start_time": "2022-08-19T16:06:38.390765Z"
    }
   },
   "outputs": [],
   "source": [
    "def mangle_1(name_dict, cands = [\".\", \"-\"], remove_space_thresh=0.4):\n",
    "    cand = name_dict['midgap']\n",
    "    rm_whitespace_prob = random.uniform(0,1)\n",
    "    if \" \" in cand and rm_whitespace_prob < remove_space_thresh:\n",
    "        name_dict['midgap'] = re.sub(\"\\s\", \"\", cand, count=1) #Remove only 1st whitespace\n",
    "\n",
    "    else : \n",
    "        name_dict['midgap'] =  random.choice(cands)+cand \n",
    "    return name_dict\n",
    "\n",
    "\n",
    "def mangle_2(name_dict, front_cands = ['Dr. ', 'Mr. ', 'Mrs. '], \n",
    "             back_cands = [\", M.D.\", \", PHD\", \", CFA\"], remove_space_thresh=0.4):\n",
    "    firstgap = name_dict['firstgap']\n",
    "    lastgap = name_dict['lastgap']\n",
    "    rm_whitespace_prob = random.uniform(0,1)\n",
    "    if \" \" in firstgap and rm_whitespace_prob < remove_space_thresh:\n",
    "        name_dict['firstgap'] = re.sub(\"\\s\", \"\", firstgap, count=1) #Remove only 1st whitespace\n",
    "    \n",
    "    elif \" \" in lastgap and rm_whitespace_prob < remove_space_thresh:\n",
    "        name_dict['lastgap'] = re.sub(\"\\s\", \"\", lastgap, count=1) #Remove only 1st whitespace\n",
    "    \n",
    "    else:\n",
    "        # Add to either the front or back\n",
    "        if random.uniform(0,1) < 0.5:\n",
    "            # Add to front\n",
    "            name_dict['firstgap'] = random.choice(front_cands) + firstgap\n",
    "        else:\n",
    "            # Add to back\n",
    "            name_dict['lastgap'] = random.choice(back_cands) + lastgap\n",
    "    \n",
    "    return name_dict\n",
    "\n",
    "def mangle_3(name_dict):\n",
    "    firstname, lastname = name_dict['firstname'], name_dict['lastname']\n",
    "    \n",
    "    # Try to get two groups from lastname (eg. McLeod -> ('Mc', \"Leod\"))\n",
    "    try:\n",
    "        grps = re.search(r\"([A-Z][a-z]+)([A-Z][a-z]+)\", lastname).groups()\n",
    "        # If succesful, insert a hyphen\n",
    "        name_dict['lastname'] = \"-\".join(grps)\n",
    "        \n",
    "    except:\n",
    "        # Otherwise look for a vowel condition\n",
    "        last_grp = re.search(r\"(\\w*?[^aeiou]+[aeiou])(\\w+)\", lastname)\n",
    "        first_grp = re.search(r\"(\\w*?[^aeiou]+[aeiou])(\\w+)\", firstname)\n",
    "        \n",
    "        if last_grp is not None:\n",
    "            last_grp=last_grp.groups()\n",
    "            name_dict['lastname'] = \"-\".join(last_grp)\n",
    "            \n",
    "        elif first_grp is not None:\n",
    "            first_grp=first_grp.groups()\n",
    "            name_dict['firstname'] = \"-\".join(first_grp)\n",
    "        \n",
    "        return name_dict                   \n",
    "            \n",
    "        \n",
    "            \n",
    "        \n",
    "    \n",
    "        \n",
    "\n",
    "def mangle_names(fullname, n_iter=5, cand_fns = [mangle_1, mangle_2, mangle_3]):\n",
    "    firstname, lastname = fullname.split(\" \")\n",
    "    name_dict = {\n",
    "        'firstgap' : \"\",\n",
    "        'firstname' : firstname,\n",
    "        'midgap' : \" \",\n",
    "        'lastname' : lastname,\n",
    "        'lastgap' : \"\"\n",
    "    }\n",
    "    for i in range(n_iter):\n",
    "        mangler_fn = random.choice(cand_fns)\n",
    "        name_dict = mangler_fn(name_dict)\n",
    "        \n",
    "       \n",
    "    return \"\".join(name_dict.values())\n",
    "    \n",
    "    \n",
    "    \n",
    "    "
   ]
  },
  {
   "cell_type": "markdown",
   "id": "6e8ce5ea",
   "metadata": {},
   "source": [
    "# Trial\n",
    "\n",
    "Trial on the 100 names with n_iter = 5"
   ]
  },
  {
   "cell_type": "code",
   "execution_count": 203,
   "id": "46d4b47f",
   "metadata": {
    "ExecuteTime": {
     "end_time": "2022-08-19T16:11:08.172163Z",
     "start_time": "2022-08-19T16:11:08.165944Z"
    }
   },
   "outputs": [],
   "source": [
    "name_df['mangled'] = name_df['Name'].apply(lambda x : mangle_names(x))"
   ]
  },
  {
   "cell_type": "code",
   "execution_count": 204,
   "id": "e86225d6",
   "metadata": {
    "ExecuteTime": {
     "end_time": "2022-08-19T16:11:08.771091Z",
     "start_time": "2022-08-19T16:11:08.761974Z"
    }
   },
   "outputs": [
    {
     "data": {
      "text/html": [
       "<div>\n",
       "<style scoped>\n",
       "    .dataframe tbody tr th:only-of-type {\n",
       "        vertical-align: middle;\n",
       "    }\n",
       "\n",
       "    .dataframe tbody tr th {\n",
       "        vertical-align: top;\n",
       "    }\n",
       "\n",
       "    .dataframe thead th {\n",
       "        text-align: right;\n",
       "    }\n",
       "</style>\n",
       "<table border=\"1\" class=\"dataframe\">\n",
       "  <thead>\n",
       "    <tr style=\"text-align: right;\">\n",
       "      <th></th>\n",
       "      <th>Name</th>\n",
       "      <th>mangled</th>\n",
       "    </tr>\n",
       "  </thead>\n",
       "  <tbody>\n",
       "    <tr>\n",
       "      <th>0</th>\n",
       "      <td>Tristian Wunsch</td>\n",
       "      <td>Mr. Tri-stian-Wu-nsch</td>\n",
       "    </tr>\n",
       "    <tr>\n",
       "      <th>1</th>\n",
       "      <td>Rosamond Klocko</td>\n",
       "      <td>Dr.Ro-samond. Klo-cko</td>\n",
       "    </tr>\n",
       "    <tr>\n",
       "      <th>2</th>\n",
       "      <td>Georgianna Bahringer</td>\n",
       "      <td>Mr. Georgianna-. Ba-hri-nger</td>\n",
       "    </tr>\n",
       "    <tr>\n",
       "      <th>3</th>\n",
       "      <td>Destiney Gutkowski</td>\n",
       "      <td>Mr. Destiney-- Gu-tko-wski</td>\n",
       "    </tr>\n",
       "    <tr>\n",
       "      <th>4</th>\n",
       "      <td>Glenda Berge</td>\n",
       "      <td>Gle-nda--. Be-rge</td>\n",
       "    </tr>\n",
       "    <tr>\n",
       "      <th>...</th>\n",
       "      <td>...</td>\n",
       "      <td>...</td>\n",
       "    </tr>\n",
       "    <tr>\n",
       "      <th>94</th>\n",
       "      <td>Terence Windler</td>\n",
       "      <td>Terence.- Windler,M.D., PHD</td>\n",
       "    </tr>\n",
       "    <tr>\n",
       "      <th>95</th>\n",
       "      <td>Ocie Pacocha</td>\n",
       "      <td>Ocie-.Pa-co-cha</td>\n",
       "    </tr>\n",
       "    <tr>\n",
       "      <th>96</th>\n",
       "      <td>Zechariah Conn</td>\n",
       "      <td>Dr.Ze-chariah- Co-nn</td>\n",
       "    </tr>\n",
       "    <tr>\n",
       "      <th>97</th>\n",
       "      <td>Lukas Gleichner</td>\n",
       "      <td>Dr. Mr. Lukas-. Gle-ichner</td>\n",
       "    </tr>\n",
       "    <tr>\n",
       "      <th>98</th>\n",
       "      <td>Margie Mohr</td>\n",
       "      <td>Mr. Margie-.Mohr, M.D.</td>\n",
       "    </tr>\n",
       "  </tbody>\n",
       "</table>\n",
       "<p>99 rows × 2 columns</p>\n",
       "</div>"
      ],
      "text/plain": [
       "                    Name                       mangled\n",
       "0        Tristian Wunsch         Mr. Tri-stian-Wu-nsch\n",
       "1        Rosamond Klocko         Dr.Ro-samond. Klo-cko\n",
       "2   Georgianna Bahringer  Mr. Georgianna-. Ba-hri-nger\n",
       "3     Destiney Gutkowski    Mr. Destiney-- Gu-tko-wski\n",
       "4           Glenda Berge             Gle-nda--. Be-rge\n",
       "..                   ...                           ...\n",
       "94       Terence Windler   Terence.- Windler,M.D., PHD\n",
       "95          Ocie Pacocha               Ocie-.Pa-co-cha\n",
       "96        Zechariah Conn          Dr.Ze-chariah- Co-nn\n",
       "97       Lukas Gleichner    Dr. Mr. Lukas-. Gle-ichner\n",
       "98           Margie Mohr        Mr. Margie-.Mohr, M.D.\n",
       "\n",
       "[99 rows x 2 columns]"
      ]
     },
     "execution_count": 204,
     "metadata": {},
     "output_type": "execute_result"
    }
   ],
   "source": [
    "name_df"
   ]
  },
  {
   "cell_type": "code",
   "execution_count": null,
   "id": "5d65a92c",
   "metadata": {},
   "outputs": [],
   "source": []
  }
 ],
 "metadata": {
  "kernelspec": {
   "display_name": "Python 3 (ipykernel)",
   "language": "python",
   "name": "python3"
  },
  "language_info": {
   "codemirror_mode": {
    "name": "ipython",
    "version": 3
   },
   "file_extension": ".py",
   "mimetype": "text/x-python",
   "name": "python",
   "nbconvert_exporter": "python",
   "pygments_lexer": "ipython3",
   "version": "3.8.13"
  },
  "toc": {
   "base_numbering": 1,
   "nav_menu": {},
   "number_sections": false,
   "sideBar": true,
   "skip_h1_title": false,
   "title_cell": "Table of Contents",
   "title_sidebar": "Contents",
   "toc_cell": false,
   "toc_position": {
    "height": "calc(100% - 180px)",
    "left": "10px",
    "top": "150px",
    "width": "165px"
   },
   "toc_section_display": true,
   "toc_window_display": true
  }
 },
 "nbformat": 4,
 "nbformat_minor": 5
}
