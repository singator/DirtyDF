{
 "cells": [
  {
   "cell_type": "code",
   "execution_count": 1,
   "id": "afddf440",
   "metadata": {
    "ExecuteTime": {
     "end_time": "2022-08-17T06:42:14.800376Z",
     "start_time": "2022-08-17T06:42:13.760069Z"
    }
   },
   "outputs": [],
   "source": [
    "import random\n",
    "import numpy as np\n",
    "import pandas as pd\n",
    "# from scipy.optimize import basinhopping\n",
    "# from sklearn.metrics import mutual_info_score\n",
    "from tqdm.notebook import tqdm_notebook\n",
    "import time"
   ]
  },
  {
   "cell_type": "code",
   "execution_count": 2,
   "id": "61a0dca5",
   "metadata": {
    "ExecuteTime": {
     "end_time": "2022-08-17T06:42:15.883168Z",
     "start_time": "2022-08-17T06:42:14.803592Z"
    }
   },
   "outputs": [],
   "source": [
    "import sys\n",
    "sys.path.insert(0, \"../ddf/\")\n",
    "import stainer as ST\n",
    "import DirtyDF as ddf"
   ]
  },
  {
   "cell_type": "code",
   "execution_count": 3,
   "id": "5b344eeb",
   "metadata": {
    "ExecuteTime": {
     "end_time": "2022-08-17T07:12:07.930068Z",
     "start_time": "2022-08-17T07:12:07.889923Z"
    }
   },
   "outputs": [],
   "source": [
    "df = pd.read_csv(\"../../data/Telco-Customer-Churn.csv\")"
   ]
  },
  {
   "cell_type": "code",
   "execution_count": 4,
   "id": "c063edaf",
   "metadata": {
    "ExecuteTime": {
     "end_time": "2022-08-17T07:12:08.437742Z",
     "start_time": "2022-08-17T07:12:08.406383Z"
    }
   },
   "outputs": [],
   "source": [
    "# Need to manually convert to categorical types\n",
    "df[df.columns.difference(['customerID', 'SeniorCitizen', 'tenure', 'MonthlyCharges', \n",
    "                          'TotalCharges'])]=\\\n",
    "    df[df.columns.difference(['customerID', 'SeniorCitizen', 'tenure', 'MonthlyCharges', \n",
    "                              'TotalCharges'])].astype('category')\n",
    "    "
   ]
  },
  {
   "cell_type": "code",
   "execution_count": 5,
   "id": "5cbf83d7",
   "metadata": {
    "ExecuteTime": {
     "end_time": "2022-08-17T07:12:09.202505Z",
     "start_time": "2022-08-17T07:12:09.193435Z"
    }
   },
   "outputs": [],
   "source": [
    "# Create DDF object\n",
    "telco_ddf = ddf.DirtyDF(df, seed=2101)"
   ]
  },
  {
   "cell_type": "code",
   "execution_count": 6,
   "id": "30bcdcda",
   "metadata": {
    "ExecuteTime": {
     "end_time": "2022-08-17T07:12:09.356738Z",
     "start_time": "2022-08-17T07:12:09.351842Z"
    }
   },
   "outputs": [
    {
     "name": "stdout",
     "output_type": "stream",
     "text": [
      "[1, 3, 4, 6, 7, 8, 9, 10, 11, 12, 13, 14, 15, 16, 17, 20]\n",
      "[2, 5, 18, 19]\n",
      "[]\n"
     ]
    }
   ],
   "source": [
    "# Check for the column types\n",
    "print(telco_ddf.cat_cols)\n",
    "print(telco_ddf.num_cols)\n",
    "print(telco_ddf.dt_cols)"
   ]
  },
  {
   "cell_type": "code",
   "execution_count": 7,
   "id": "48d6d036",
   "metadata": {
    "ExecuteTime": {
     "end_time": "2022-08-17T07:12:09.566518Z",
     "start_time": "2022-08-17T07:12:09.553868Z"
    }
   },
   "outputs": [
    {
     "data": {
      "text/plain": [
       "customerID            object\n",
       "gender              category\n",
       "SeniorCitizen          int64\n",
       "Partner             category\n",
       "Dependents          category\n",
       "tenure                 int64\n",
       "PhoneService        category\n",
       "MultipleLines       category\n",
       "InternetService     category\n",
       "OnlineSecurity      category\n",
       "OnlineBackup        category\n",
       "DeviceProtection    category\n",
       "TechSupport         category\n",
       "StreamingTV         category\n",
       "StreamingMovies     category\n",
       "Contract            category\n",
       "PaperlessBilling    category\n",
       "PaymentMethod       category\n",
       "MonthlyCharges       float64\n",
       "TotalCharges         float64\n",
       "Churn               category\n",
       "dtype: object"
      ]
     },
     "execution_count": 7,
     "metadata": {},
     "output_type": "execute_result"
    }
   ],
   "source": [
    "df.dtypes"
   ]
  },
  {
   "cell_type": "code",
   "execution_count": 8,
   "id": "be232058",
   "metadata": {
    "ExecuteTime": {
     "end_time": "2022-08-17T07:12:10.175651Z",
     "start_time": "2022-08-17T07:12:10.140277Z"
    }
   },
   "outputs": [
    {
     "data": {
      "text/html": [
       "<div>\n",
       "<style scoped>\n",
       "    .dataframe tbody tr th:only-of-type {\n",
       "        vertical-align: middle;\n",
       "    }\n",
       "\n",
       "    .dataframe tbody tr th {\n",
       "        vertical-align: top;\n",
       "    }\n",
       "\n",
       "    .dataframe thead th {\n",
       "        text-align: right;\n",
       "    }\n",
       "</style>\n",
       "<table border=\"1\" class=\"dataframe\">\n",
       "  <thead>\n",
       "    <tr style=\"text-align: right;\">\n",
       "      <th></th>\n",
       "      <th>customerID</th>\n",
       "      <th>gender</th>\n",
       "      <th>SeniorCitizen</th>\n",
       "      <th>Partner</th>\n",
       "      <th>Dependents</th>\n",
       "      <th>tenure</th>\n",
       "      <th>PhoneService</th>\n",
       "      <th>MultipleLines</th>\n",
       "      <th>InternetService</th>\n",
       "      <th>OnlineSecurity</th>\n",
       "      <th>...</th>\n",
       "      <th>DeviceProtection</th>\n",
       "      <th>TechSupport</th>\n",
       "      <th>StreamingTV</th>\n",
       "      <th>StreamingMovies</th>\n",
       "      <th>Contract</th>\n",
       "      <th>PaperlessBilling</th>\n",
       "      <th>PaymentMethod</th>\n",
       "      <th>MonthlyCharges</th>\n",
       "      <th>TotalCharges</th>\n",
       "      <th>Churn</th>\n",
       "    </tr>\n",
       "  </thead>\n",
       "  <tbody>\n",
       "    <tr>\n",
       "      <th>0</th>\n",
       "      <td>7590-VHVEG</td>\n",
       "      <td>Female</td>\n",
       "      <td>0</td>\n",
       "      <td>Yes</td>\n",
       "      <td>No</td>\n",
       "      <td>1</td>\n",
       "      <td>No</td>\n",
       "      <td>No phone service</td>\n",
       "      <td>DSL</td>\n",
       "      <td>No</td>\n",
       "      <td>...</td>\n",
       "      <td>No</td>\n",
       "      <td>No</td>\n",
       "      <td>No</td>\n",
       "      <td>No</td>\n",
       "      <td>Month-to-month</td>\n",
       "      <td>Yes</td>\n",
       "      <td>Electronic check</td>\n",
       "      <td>29.85</td>\n",
       "      <td>29.85</td>\n",
       "      <td>No</td>\n",
       "    </tr>\n",
       "    <tr>\n",
       "      <th>1</th>\n",
       "      <td>5575-GNVDE</td>\n",
       "      <td>Male</td>\n",
       "      <td>0</td>\n",
       "      <td>No</td>\n",
       "      <td>No</td>\n",
       "      <td>34</td>\n",
       "      <td>Yes</td>\n",
       "      <td>No</td>\n",
       "      <td>DSL</td>\n",
       "      <td>Yes</td>\n",
       "      <td>...</td>\n",
       "      <td>Yes</td>\n",
       "      <td>No</td>\n",
       "      <td>No</td>\n",
       "      <td>No</td>\n",
       "      <td>One year</td>\n",
       "      <td>No</td>\n",
       "      <td>Mailed check</td>\n",
       "      <td>56.95</td>\n",
       "      <td>1889.50</td>\n",
       "      <td>No</td>\n",
       "    </tr>\n",
       "    <tr>\n",
       "      <th>2</th>\n",
       "      <td>3668-QPYBK</td>\n",
       "      <td>Male</td>\n",
       "      <td>0</td>\n",
       "      <td>No</td>\n",
       "      <td>No</td>\n",
       "      <td>2</td>\n",
       "      <td>Yes</td>\n",
       "      <td>No</td>\n",
       "      <td>DSL</td>\n",
       "      <td>Yes</td>\n",
       "      <td>...</td>\n",
       "      <td>No</td>\n",
       "      <td>No</td>\n",
       "      <td>No</td>\n",
       "      <td>No</td>\n",
       "      <td>Month-to-month</td>\n",
       "      <td>Yes</td>\n",
       "      <td>Mailed check</td>\n",
       "      <td>53.85</td>\n",
       "      <td>108.15</td>\n",
       "      <td>Yes</td>\n",
       "    </tr>\n",
       "    <tr>\n",
       "      <th>3</th>\n",
       "      <td>7795-CFOCW</td>\n",
       "      <td>Male</td>\n",
       "      <td>0</td>\n",
       "      <td>No</td>\n",
       "      <td>No</td>\n",
       "      <td>45</td>\n",
       "      <td>No</td>\n",
       "      <td>No phone service</td>\n",
       "      <td>DSL</td>\n",
       "      <td>Yes</td>\n",
       "      <td>...</td>\n",
       "      <td>Yes</td>\n",
       "      <td>Yes</td>\n",
       "      <td>No</td>\n",
       "      <td>No</td>\n",
       "      <td>One year</td>\n",
       "      <td>No</td>\n",
       "      <td>Bank transfer (automatic)</td>\n",
       "      <td>42.30</td>\n",
       "      <td>1840.75</td>\n",
       "      <td>No</td>\n",
       "    </tr>\n",
       "    <tr>\n",
       "      <th>4</th>\n",
       "      <td>9237-HQITU</td>\n",
       "      <td>Female</td>\n",
       "      <td>0</td>\n",
       "      <td>No</td>\n",
       "      <td>No</td>\n",
       "      <td>2</td>\n",
       "      <td>Yes</td>\n",
       "      <td>No</td>\n",
       "      <td>Fiber optic</td>\n",
       "      <td>No</td>\n",
       "      <td>...</td>\n",
       "      <td>No</td>\n",
       "      <td>No</td>\n",
       "      <td>No</td>\n",
       "      <td>No</td>\n",
       "      <td>Month-to-month</td>\n",
       "      <td>Yes</td>\n",
       "      <td>Electronic check</td>\n",
       "      <td>70.70</td>\n",
       "      <td>151.65</td>\n",
       "      <td>Yes</td>\n",
       "    </tr>\n",
       "  </tbody>\n",
       "</table>\n",
       "<p>5 rows × 21 columns</p>\n",
       "</div>"
      ],
      "text/plain": [
       "   customerID  gender  SeniorCitizen Partner Dependents  tenure PhoneService  \\\n",
       "0  7590-VHVEG  Female              0     Yes         No       1           No   \n",
       "1  5575-GNVDE    Male              0      No         No      34          Yes   \n",
       "2  3668-QPYBK    Male              0      No         No       2          Yes   \n",
       "3  7795-CFOCW    Male              0      No         No      45           No   \n",
       "4  9237-HQITU  Female              0      No         No       2          Yes   \n",
       "\n",
       "      MultipleLines InternetService OnlineSecurity  ... DeviceProtection  \\\n",
       "0  No phone service             DSL             No  ...               No   \n",
       "1                No             DSL            Yes  ...              Yes   \n",
       "2                No             DSL            Yes  ...               No   \n",
       "3  No phone service             DSL            Yes  ...              Yes   \n",
       "4                No     Fiber optic             No  ...               No   \n",
       "\n",
       "  TechSupport StreamingTV StreamingMovies        Contract PaperlessBilling  \\\n",
       "0          No          No              No  Month-to-month              Yes   \n",
       "1          No          No              No        One year               No   \n",
       "2          No          No              No  Month-to-month              Yes   \n",
       "3         Yes          No              No        One year               No   \n",
       "4          No          No              No  Month-to-month              Yes   \n",
       "\n",
       "               PaymentMethod MonthlyCharges  TotalCharges  Churn  \n",
       "0           Electronic check          29.85         29.85     No  \n",
       "1               Mailed check          56.95       1889.50     No  \n",
       "2               Mailed check          53.85        108.15    Yes  \n",
       "3  Bank transfer (automatic)          42.30       1840.75     No  \n",
       "4           Electronic check          70.70        151.65    Yes  \n",
       "\n",
       "[5 rows x 21 columns]"
      ]
     },
     "execution_count": 8,
     "metadata": {},
     "output_type": "execute_result"
    }
   ],
   "source": [
    "df.head()"
   ]
  },
  {
   "cell_type": "markdown",
   "id": "3784fecb",
   "metadata": {},
   "source": [
    "## Stainers used for trial\n",
    "\n",
    "1. Row Duplication (on `customerID`)\n",
    "2. Mutual Information (on `Contract` & `Churn`)\n",
    "3. Inflection (on `PaymentMethod` & `Contract`)\n",
    "4. Nullify Stainer (on `TotalCharges`)"
   ]
  },
  {
   "cell_type": "code",
   "execution_count": 9,
   "id": "c68756a1",
   "metadata": {
    "ExecuteTime": {
     "end_time": "2022-08-17T07:12:33.449236Z",
     "start_time": "2022-08-17T07:12:33.436696Z"
    }
   },
   "outputs": [],
   "source": [
    "# Create DDF object\n",
    "telco_ddf = ddf.DirtyDF(df, seed=2101)\n",
    "\n",
    "## Instantiate Stainers ##\n",
    "\n",
    "# Duplication Stainer\n",
    "dupli_stainer=ST.RowDuplicateStainer(deg=0.2, max_rep=3) \n",
    "# Mutual Information\n",
    "mut_stainer=ST.CatCorrStainer(col_idx=[15, 20], max_n=50000, min_inf=0.4)\n",
    "# Nullify Stainer\n",
    "null_stainer=ST.NullifyStainer(deg=0.25, col_idx=[18])"
   ]
  },
  {
   "cell_type": "code",
   "execution_count": 10,
   "id": "cefc9c43",
   "metadata": {
    "ExecuteTime": {
     "end_time": "2022-08-17T07:12:41.535449Z",
     "start_time": "2022-08-17T07:12:41.525905Z"
    }
   },
   "outputs": [],
   "source": [
    "## Add Stainers ##\n",
    "telco_ddf=telco_ddf.add_stainers([dupli_stainer, mut_stainer, null_stainer])"
   ]
  },
  {
   "cell_type": "code",
   "execution_count": 11,
   "id": "6a113fc4",
   "metadata": {
    "ExecuteTime": {
     "end_time": "2022-08-17T07:12:48.073184Z",
     "start_time": "2022-08-17T07:12:43.998857Z"
    },
    "scrolled": true
   },
   "outputs": [],
   "source": [
    "## Run Stainers ##\n",
    "telco_ddf=telco_ddf.run_all_stainers()"
   ]
  },
  {
   "cell_type": "code",
   "execution_count": 12,
   "id": "23539913",
   "metadata": {
    "ExecuteTime": {
     "end_time": "2022-08-17T07:12:48.079987Z",
     "start_time": "2022-08-17T07:12:48.075798Z"
    },
    "scrolled": true
   },
   "outputs": [
    {
     "name": "stdout",
     "output_type": "stream",
     "text": [
      "1. Add Duplicates \n",
      " Added Duplicate Rows for 1408 rows. \n",
      "  Each duplicated row should appear a maximum of 3 times. \n",
      "  Rows added: 2110 \n",
      " Time taken: 0.07624030113220215 \n",
      "\n",
      "2. CatCorr \n",
      " Old Mutual Information was 0.1401538385374521, new Mutual Information is 0.28488443942160435 \n",
      " Time taken: 3.828752040863037 \n",
      "\n",
      "3. Nullify \n",
      " Replaced 2288 values to become empty in specificed rows/cols. \n",
      " Time taken: 0.1325690746307373 \n",
      "\n"
     ]
    }
   ],
   "source": [
    "telco_ddf.print_history()"
   ]
  },
  {
   "cell_type": "code",
   "execution_count": 13,
   "id": "00899ca8",
   "metadata": {
    "ExecuteTime": {
     "end_time": "2022-08-17T07:14:54.269780Z",
     "start_time": "2022-08-17T07:14:54.266243Z"
    }
   },
   "outputs": [],
   "source": [
    "stained_df = telco_ddf.get_df()"
   ]
  },
  {
   "cell_type": "code",
   "execution_count": 15,
   "id": "b2111377",
   "metadata": {
    "ExecuteTime": {
     "end_time": "2022-08-17T07:16:38.295839Z",
     "start_time": "2022-08-17T07:16:38.285324Z"
    }
   },
   "outputs": [
    {
     "data": {
      "text/plain": [
       "Contract        Churn\n",
       "Month-to-month  No       2601\n",
       "                Yes      2412\n",
       "Two year        No       2204\n",
       "One year        No       1936\n",
       "dtype: int64"
      ]
     },
     "execution_count": 15,
     "metadata": {},
     "output_type": "execute_result"
    }
   ],
   "source": [
    "stained_df[['Contract', 'Churn']].value_counts()"
   ]
  },
  {
   "cell_type": "code",
   "execution_count": null,
   "id": "0ad6b4fa",
   "metadata": {},
   "outputs": [],
   "source": []
  }
 ],
 "metadata": {
  "kernelspec": {
   "display_name": "Python 3 (ipykernel)",
   "language": "python",
   "name": "python3"
  },
  "language_info": {
   "codemirror_mode": {
    "name": "ipython",
    "version": 3
   },
   "file_extension": ".py",
   "mimetype": "text/x-python",
   "name": "python",
   "nbconvert_exporter": "python",
   "pygments_lexer": "ipython3",
   "version": "3.8.13"
  },
  "toc": {
   "base_numbering": 1,
   "nav_menu": {},
   "number_sections": true,
   "sideBar": true,
   "skip_h1_title": false,
   "title_cell": "Table of Contents",
   "title_sidebar": "Contents",
   "toc_cell": false,
   "toc_position": {},
   "toc_section_display": true,
   "toc_window_display": false
  }
 },
 "nbformat": 4,
 "nbformat_minor": 5
}
