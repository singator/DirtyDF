{
 "cells": [
  {
   "cell_type": "markdown",
   "id": "4a285a88",
   "metadata": {},
   "source": [
    "# Introduction\n",
    "\n",
    "Creating a mutual information stainer in Python"
   ]
  },
  {
   "cell_type": "code",
   "execution_count": 13,
   "id": "ff254ec3",
   "metadata": {
    "ExecuteTime": {
     "end_time": "2022-08-16T14:13:24.500091Z",
     "start_time": "2022-08-16T14:13:24.009690Z"
    }
   },
   "outputs": [],
   "source": [
    "import pandas as pd\n",
    "import random\n",
    "import numpy as np\n",
    "# from scipy.optimize import basinhopping\n",
    "# from sklearn.metrics import mutual_info_score\n",
    "from tqdm.notebook import tqdm_notebook\n",
    "import time"
   ]
  },
  {
   "cell_type": "code",
   "execution_count": 2,
   "id": "3c39dab4",
   "metadata": {
    "ExecuteTime": {
     "end_time": "2022-08-16T14:11:21.973869Z",
     "start_time": "2022-08-16T14:11:21.969782Z"
    }
   },
   "outputs": [],
   "source": [
    "def get_row_col_sums(x):\n",
    "    \"\"\"\n",
    "    Get the row and column sums respectively. Where X is a 2d numpy array\n",
    "    \"\"\"\n",
    "    return (x.sum(axis=1), x.sum(axis=0))"
   ]
  },
  {
   "cell_type": "markdown",
   "id": "01bd846b",
   "metadata": {},
   "source": [
    "# Computing Mutual Information\n",
    "\n",
    "Using __Shannon entropy and the mutual information of two variables__ as implemented in `DescTools` in R. \n",
    "\n",
    "There is no Python version of this package (that I could find at any rate) so implementing it myself. \n",
    "\n",
    "Cross-checked with the R version. Results are identical. "
   ]
  },
  {
   "cell_type": "code",
   "execution_count": 3,
   "id": "cc92d400",
   "metadata": {
    "ExecuteTime": {
     "end_time": "2022-08-16T14:11:22.223574Z",
     "start_time": "2022-08-16T14:11:22.215334Z"
    }
   },
   "outputs": [],
   "source": [
    "def entropy_pair(table):\n",
    "    total=table.sum()\n",
    "    probs = []\n",
    "    for i in range(table.shape[0]):\n",
    "        for j in range(table.shape[1]):\n",
    "            probs.append(table[i,j]/total)\n",
    "    return np.sum([-p * np.log2(p) for p in probs if p > 0])\n",
    "#     for c1 in set(X):\n",
    "#         for c2 in set(Y):\n",
    "#             probs.append(np.mean(np.logical_and(X == c1, Y == c2)))\n",
    "\n",
    "#     return np.sum([-p * np.log2(p) for p in probs if p > 0])\n",
    "\n",
    "def entropy(x):\n",
    "    \"\"\"\n",
    "    Not in use\n",
    "    \"\"\"\n",
    "    probs = [np.mean(x == c) for c in set(x)]\n",
    "    return np.sum([-p * np.log2(p) for p in probs])\n",
    "\n",
    "def MutInf(table):\n",
    "    \"\"\"\n",
    "    Computes the mutual information using Shannon entropy & mutual information. \n",
    "    Input is a contingency table\n",
    "    \n",
    "    \"\"\"\n",
    "    # Get the entropy of the marginals\n",
    "    rowsums, colsums = get_row_col_sums(table)\n",
    "    ent_x = sum([-i * np.log2(i) for i in (rowsums/rowsums.sum()) if i > 0])\n",
    "    ent_y = sum([-i * np.log2(i) for i in (colsums/colsums.sum()) if i > 0])\n",
    "    # Get mutual information\n",
    "    return ent_x+ent_y-entropy_pair(table)"
   ]
  },
  {
   "cell_type": "code",
   "execution_count": 4,
   "id": "47765d63",
   "metadata": {
    "ExecuteTime": {
     "end_time": "2022-08-16T14:11:22.389837Z",
     "start_time": "2022-08-16T14:11:22.383680Z"
    }
   },
   "outputs": [],
   "source": [
    "x = np.array([\"a\",\"b\",\"a\",\"c\",\"b\",\"c\"])\n",
    "y = np.array([\"b\",\"a\",\"a\",\"c\",\"c\",\"b\"])\n",
    "\n"
   ]
  },
  {
   "cell_type": "markdown",
   "id": "c0f51c8f",
   "metadata": {},
   "source": [
    "[simulated annealing](https://docs.scipy.org/doc/scipy/reference/generated/scipy.optimize.basinhopping.html?highlight=basinhopping)\n",
    "\n",
    "[guide](https://machinelearningmastery.com/simulated-annealing-from-scratch-in-python/#:~:text=Simulated%20Annealing%20is%20a%20stochastic,algorithms%20do%20not%20operate%20well.)"
   ]
  },
  {
   "cell_type": "code",
   "execution_count": 5,
   "id": "860e2ce9",
   "metadata": {
    "ExecuteTime": {
     "end_time": "2022-08-16T14:11:22.740143Z",
     "start_time": "2022-08-16T14:11:22.726381Z"
    }
   },
   "outputs": [
    {
     "data": {
      "text/plain": [
       "array([[14, 12,  9, 14],\n",
       "       [22, 19, 18,  5],\n",
       "       [ 7, 11, 21, 11]])"
      ]
     },
     "execution_count": 5,
     "metadata": {},
     "output_type": "execute_result"
    }
   ],
   "source": [
    "x_vec = [14, 22, 7, 12, 19, 11, 9, 18, 21, 14, 5, 11]\n",
    "# Python version of table() in R\n",
    "x=np.array(x_vec).reshape(-1, 3).transpose()\n",
    "x"
   ]
  },
  {
   "cell_type": "code",
   "execution_count": 6,
   "id": "61cc02ea",
   "metadata": {
    "ExecuteTime": {
     "end_time": "2022-08-16T14:11:22.901591Z",
     "start_time": "2022-08-16T14:11:22.892081Z"
    }
   },
   "outputs": [],
   "source": [
    "def gen_number(x):\n",
    "    table=x.copy()\n",
    "    nrows, ncols=table.shape\n",
    "    RR=random.sample(range(0, nrows), 2)\n",
    "    CC=random.sample(range(0, ncols), 2)\n",
    "    org_values=[table[RR[0], CC[0]], table[RR[1], CC[1]]]\n",
    "    \n",
    "    while org_values[0] < 1 or org_values[1]<1:\n",
    "        RR=random.sample(range(0, nrows), 2)\n",
    "        CC=random.sample(range(0, ncols), 2)\n",
    "        org_values=[table[RR[0], CC[0]], table[RR[1], CC[1]]]\n",
    "        \n",
    "    table[RR[0], CC[0]] = table[RR[0], CC[0]]-1\n",
    "    table[RR[1], CC[1]] = table[RR[1], CC[1]]-1\n",
    "    \n",
    "    table[RR[0], CC[1]] = table[RR[0], CC[1]]+1\n",
    "    table[RR[1], CC[0]] = table[RR[1], CC[0]]+1\n",
    "    \n",
    "    return table "
   ]
  },
  {
   "cell_type": "code",
   "execution_count": 7,
   "id": "dd857e9a",
   "metadata": {
    "ExecuteTime": {
     "end_time": "2022-08-16T14:11:23.063124Z",
     "start_time": "2022-08-16T14:11:23.057995Z"
    }
   },
   "outputs": [
    {
     "data": {
      "text/plain": [
       "array([[14, 12,  9, 14],\n",
       "       [22, 19, 18,  5],\n",
       "       [ 7, 11, 21, 11]])"
      ]
     },
     "execution_count": 7,
     "metadata": {},
     "output_type": "execute_result"
    }
   ],
   "source": [
    "x"
   ]
  },
  {
   "cell_type": "code",
   "execution_count": 8,
   "id": "569fe6d7",
   "metadata": {
    "ExecuteTime": {
     "end_time": "2022-08-16T14:11:23.258031Z",
     "start_time": "2022-08-16T14:11:23.251537Z"
    }
   },
   "outputs": [
    {
     "data": {
      "text/plain": [
       "array([[13, 13,  9, 14],\n",
       "       [22, 19, 18,  5],\n",
       "       [ 8, 10, 21, 11]])"
      ]
     },
     "execution_count": 8,
     "metadata": {},
     "output_type": "execute_result"
    }
   ],
   "source": [
    "q = gen_number(x)\n",
    "q"
   ]
  },
  {
   "cell_type": "code",
   "execution_count": 9,
   "id": "c5cc8cb0",
   "metadata": {
    "ExecuteTime": {
     "end_time": "2022-08-16T14:11:23.607901Z",
     "start_time": "2022-08-16T14:11:23.602191Z"
    }
   },
   "outputs": [
    {
     "name": "stdout",
     "output_type": "stream",
     "text": [
      "(array([49, 64, 50]), array([43, 42, 48, 30]))\n",
      "(array([49, 64, 50]), array([43, 42, 48, 30]))\n"
     ]
    }
   ],
   "source": [
    "print(get_row_col_sums(x))\n",
    "print(get_row_col_sums(q))"
   ]
  },
  {
   "cell_type": "markdown",
   "id": "89ce947f",
   "metadata": {},
   "source": [
    "The `gen_nbr()` function to produce candidate contingency tables works as intended. "
   ]
  },
  {
   "cell_type": "markdown",
   "id": "5729c7dc",
   "metadata": {},
   "source": [
    "# Simulated Annealing "
   ]
  },
  {
   "cell_type": "code",
   "execution_count": 10,
   "id": "5035a5e8",
   "metadata": {
    "ExecuteTime": {
     "end_time": "2022-08-16T14:11:27.069669Z",
     "start_time": "2022-08-16T14:11:27.062373Z"
    }
   },
   "outputs": [],
   "source": [
    "def simul_anneal(initital_table, obj=MutInf, gen_fn=gen_number, n=500, temp=10):\n",
    "    # Copy of initial point\n",
    "    best = initital_table.copy()\n",
    "    # Evaluate Initial point\n",
    "    best_eval = obj(best)\n",
    "    # CUrrent Working Solution\n",
    "    curr, curr_eval = best, best_eval\n",
    "    # Run the algorithm\n",
    "    for i in range(n):\n",
    "        # Take a step\n",
    "        cand = gen_fn(curr)\n",
    "        # Evaluate new candidate point\n",
    "        cand_eval = obj(cand)\n",
    "        # Check for new best solution\n",
    "        if cand_eval > best_eval:\n",
    "            best, best_eval = cand, cand_eval\n",
    "        # Difference between candidate and current point evaluation\n",
    "        diff=cand_eval-curr_eval\n",
    "        # calculate temperature\n",
    "        t = temp/float(i+1)\n",
    "        # Metropolis acceptance criterion\n",
    "        metropolis=np.exp(diff/t)\n",
    "        if diff > 0 or random.uniform(0,1) < metropolis:\n",
    "            curr, curr_eval = cand, cand_eval\n",
    "    return best, best_eval\n",
    "        \n",
    "        "
   ]
  },
  {
   "cell_type": "code",
   "execution_count": 25,
   "id": "d0da89a1",
   "metadata": {
    "ExecuteTime": {
     "end_time": "2022-08-14T04:06:33.421360Z",
     "start_time": "2022-08-14T04:03:43.904578Z"
    }
   },
   "outputs": [
    {
     "data": {
      "application/vnd.jupyter.widget-view+json": {
       "model_id": "aae680b5fbdd41e8987ba684e829f1d2",
       "version_major": 2,
       "version_minor": 0
      },
      "text/plain": [
       "  0%|          | 0/1000 [00:00<?, ?it/s]"
      ]
     },
     "metadata": {},
     "output_type": "display_data"
    },
    {
     "name": "stdout",
     "output_type": "stream",
     "text": [
      "1.1824340899891843\n"
     ]
    }
   ],
   "source": [
    "# Mean Mutual Information when run WITH metropolis creterion\n",
    "metro = [] \n",
    "for i in tqdm_notebook(range(1000)):\n",
    "    metro.append(simul_anneal(x)[1])\n",
    "metro=np.mean(metro)\n",
    "print(metro)"
   ]
  },
  {
   "cell_type": "code",
   "execution_count": 23,
   "id": "ea8d700b",
   "metadata": {
    "ExecuteTime": {
     "end_time": "2022-08-14T04:03:33.095223Z",
     "start_time": "2022-08-14T04:01:52.311122Z"
    }
   },
   "outputs": [
    {
     "data": {
      "application/vnd.jupyter.widget-view+json": {
       "model_id": "75b0842cfaab4b60ab01fa7ae2b28666",
       "version_major": 2,
       "version_minor": 0
      },
      "text/plain": [
       "  0%|          | 0/1000 [00:00<?, ?it/s]"
      ]
     },
     "metadata": {},
     "output_type": "display_data"
    },
    {
     "name": "stdout",
     "output_type": "stream",
     "text": [
      "1.0551288343275393\n"
     ]
    }
   ],
   "source": [
    "# Mean Mutual Information when run WITHOUT metropolis creterion\n",
    "no_metro = [] \n",
    "for i in tqdm_notebook(range(1000)):\n",
    "    no_metro.append(simul_anneal(x)[1])\n",
    "no_metro=np.mean(no_metro)\n",
    "print(no_metro)"
   ]
  },
  {
   "cell_type": "code",
   "execution_count": 115,
   "id": "5c9cc8ef",
   "metadata": {
    "ExecuteTime": {
     "end_time": "2022-08-16T15:29:56.087404Z",
     "start_time": "2022-08-16T15:29:56.078066Z"
    }
   },
   "outputs": [
    {
     "data": {
      "text/html": [
       "<div>\n",
       "<style scoped>\n",
       "    .dataframe tbody tr th:only-of-type {\n",
       "        vertical-align: middle;\n",
       "    }\n",
       "\n",
       "    .dataframe tbody tr th {\n",
       "        vertical-align: top;\n",
       "    }\n",
       "\n",
       "    .dataframe thead th {\n",
       "        text-align: right;\n",
       "    }\n",
       "</style>\n",
       "<table border=\"1\" class=\"dataframe\">\n",
       "  <thead>\n",
       "    <tr style=\"text-align: right;\">\n",
       "      <th></th>\n",
       "      <th>Passes Final</th>\n",
       "      <th>Midterm Grade</th>\n",
       "    </tr>\n",
       "  </thead>\n",
       "  <tbody>\n",
       "    <tr>\n",
       "      <th>0</th>\n",
       "      <td>Yes</td>\n",
       "      <td>D</td>\n",
       "    </tr>\n",
       "    <tr>\n",
       "      <th>1</th>\n",
       "      <td>No</td>\n",
       "      <td>D</td>\n",
       "    </tr>\n",
       "  </tbody>\n",
       "</table>\n",
       "</div>"
      ],
      "text/plain": [
       "  Passes Final Midterm Grade\n",
       "0          Yes             D\n",
       "1           No             D"
      ]
     },
     "execution_count": 115,
     "metadata": {},
     "output_type": "execute_result"
    }
   ],
   "source": [
    "test = pd.DataFrame({\"Passes Final\" : (['Yes', 'No']*20),\n",
    "             \"Midterm Grade\" : ((['D']*10)+(['C']*10)+(['B']*10)+(['A']*10))})\n",
    "test.head(2)"
   ]
  },
  {
   "cell_type": "code",
   "execution_count": 106,
   "id": "622c09d0",
   "metadata": {
    "ExecuteTime": {
     "end_time": "2022-08-16T14:53:28.728434Z",
     "start_time": "2022-08-16T14:53:28.656232Z"
    }
   },
   "outputs": [],
   "source": [
    "df=test.copy()\n",
    "\n",
    "# Record label names\n",
    "y_name, x_name = df.columns\n",
    "# Get contingency table \n",
    "table = pd.crosstab(df[y_name],\n",
    "       df[x_name], \n",
    "       margins=False)\n",
    "x_index = table.index\n",
    "y_index = table.columns\n",
    "# Convert table to numpy array\n",
    "table=table.to_numpy()\n",
    "# Record old row & column sums\n",
    "rowsum_old, colsum_old = get_row_col_sums(table)\n",
    "\n",
    "#Perform simulated annealing\n",
    "table, new_mut=simul_anneal(table)\n",
    "# New row & columns sums\n",
    "rowsum_new, colsum_new = get_row_col_sums(table)\n",
    "\n",
    "if not (np.array_equal(rowsum_old, rowsum_new) and np.array_equal(colsum_old, colsum_new)):\n",
    "    raise Exception(\"Marginals not the same\")\n",
    "\n",
    "# Convert to dataframe to return\n",
    "df = pd.DataFrame(table)\n",
    "# Reset field names\n",
    "df.index=x_index\n",
    "df.columns=y_index\n",
    "\n",
    "# Unpivot frequency table\n",
    "\n",
    "df = df.stack()\n",
    "df = df.index.repeat(df).to_frame().reset_index(drop=True)"
   ]
  },
  {
   "cell_type": "code",
   "execution_count": 111,
   "id": "e0e8d212",
   "metadata": {
    "ExecuteTime": {
     "end_time": "2022-08-16T14:54:41.159176Z",
     "start_time": "2022-08-16T14:54:41.151792Z"
    }
   },
   "outputs": [],
   "source": [
    "def new_mutual_cols(df):\n",
    "    \n",
    "    df = df.copy()\n",
    "    \n",
    "    # Record label names\n",
    "    y_name, x_name = df.columns\n",
    "    # Get contingency table \n",
    "    table = pd.crosstab(df[y_name],\n",
    "           df[x_name], \n",
    "           margins=False)\n",
    "    x_index = table.index\n",
    "    y_index = table.columns\n",
    "    # Convert table to numpy array\n",
    "    table=table.to_numpy()\n",
    "    old_mut = MutInf(table)\n",
    "    # Record old row & column sums\n",
    "    rowsum_old, colsum_old = get_row_col_sums(table)\n",
    "\n",
    "    #Perform simulated annealing\n",
    "    table, new_mut=simul_anneal(table)\n",
    "    # New row & columns sums\n",
    "    rowsum_new, colsum_new = get_row_col_sums(table)\n",
    "\n",
    "    if not (np.array_equal(rowsum_old, rowsum_new) and np.array_equal(colsum_old, colsum_new)):\n",
    "        raise Exception(\"Marginals not the same\")\n",
    "\n",
    "    # Convert to dataframe to return\n",
    "    df = pd.DataFrame(table)\n",
    "    # Reset field names\n",
    "    df.index=x_index\n",
    "    df.columns=y_index\n",
    "\n",
    "    # Unpivot frequency table\n",
    "    df = df.stack()\n",
    "    df = df.index.repeat(df).to_frame().reset_index(drop=True)\n",
    "    \n",
    "    # Return Dataframe\n",
    "    return (df, old_mut, new_mut)"
   ]
  },
  {
   "cell_type": "code",
   "execution_count": 114,
   "id": "6e572103",
   "metadata": {
    "ExecuteTime": {
     "end_time": "2022-08-16T14:54:55.069289Z",
     "start_time": "2022-08-16T14:54:54.990131Z"
    }
   },
   "outputs": [
    {
     "data": {
      "text/html": [
       "<div>\n",
       "<style scoped>\n",
       "    .dataframe tbody tr th:only-of-type {\n",
       "        vertical-align: middle;\n",
       "    }\n",
       "\n",
       "    .dataframe tbody tr th {\n",
       "        vertical-align: top;\n",
       "    }\n",
       "\n",
       "    .dataframe thead th {\n",
       "        text-align: right;\n",
       "    }\n",
       "</style>\n",
       "<table border=\"1\" class=\"dataframe\">\n",
       "  <thead>\n",
       "    <tr style=\"text-align: right;\">\n",
       "      <th></th>\n",
       "      <th>Passes Final</th>\n",
       "      <th>Midterm Grade</th>\n",
       "    </tr>\n",
       "  </thead>\n",
       "  <tbody>\n",
       "    <tr>\n",
       "      <th>0</th>\n",
       "      <td>No</td>\n",
       "      <td>C</td>\n",
       "    </tr>\n",
       "    <tr>\n",
       "      <th>1</th>\n",
       "      <td>No</td>\n",
       "      <td>C</td>\n",
       "    </tr>\n",
       "    <tr>\n",
       "      <th>2</th>\n",
       "      <td>No</td>\n",
       "      <td>C</td>\n",
       "    </tr>\n",
       "    <tr>\n",
       "      <th>3</th>\n",
       "      <td>No</td>\n",
       "      <td>C</td>\n",
       "    </tr>\n",
       "    <tr>\n",
       "      <th>4</th>\n",
       "      <td>No</td>\n",
       "      <td>C</td>\n",
       "    </tr>\n",
       "    <tr>\n",
       "      <th>5</th>\n",
       "      <td>No</td>\n",
       "      <td>C</td>\n",
       "    </tr>\n",
       "    <tr>\n",
       "      <th>6</th>\n",
       "      <td>No</td>\n",
       "      <td>C</td>\n",
       "    </tr>\n",
       "    <tr>\n",
       "      <th>7</th>\n",
       "      <td>No</td>\n",
       "      <td>C</td>\n",
       "    </tr>\n",
       "    <tr>\n",
       "      <th>8</th>\n",
       "      <td>No</td>\n",
       "      <td>C</td>\n",
       "    </tr>\n",
       "    <tr>\n",
       "      <th>9</th>\n",
       "      <td>No</td>\n",
       "      <td>C</td>\n",
       "    </tr>\n",
       "    <tr>\n",
       "      <th>10</th>\n",
       "      <td>No</td>\n",
       "      <td>D</td>\n",
       "    </tr>\n",
       "    <tr>\n",
       "      <th>11</th>\n",
       "      <td>No</td>\n",
       "      <td>D</td>\n",
       "    </tr>\n",
       "    <tr>\n",
       "      <th>12</th>\n",
       "      <td>No</td>\n",
       "      <td>D</td>\n",
       "    </tr>\n",
       "    <tr>\n",
       "      <th>13</th>\n",
       "      <td>No</td>\n",
       "      <td>D</td>\n",
       "    </tr>\n",
       "    <tr>\n",
       "      <th>14</th>\n",
       "      <td>No</td>\n",
       "      <td>D</td>\n",
       "    </tr>\n",
       "    <tr>\n",
       "      <th>15</th>\n",
       "      <td>No</td>\n",
       "      <td>D</td>\n",
       "    </tr>\n",
       "    <tr>\n",
       "      <th>16</th>\n",
       "      <td>No</td>\n",
       "      <td>D</td>\n",
       "    </tr>\n",
       "    <tr>\n",
       "      <th>17</th>\n",
       "      <td>No</td>\n",
       "      <td>D</td>\n",
       "    </tr>\n",
       "    <tr>\n",
       "      <th>18</th>\n",
       "      <td>No</td>\n",
       "      <td>D</td>\n",
       "    </tr>\n",
       "    <tr>\n",
       "      <th>19</th>\n",
       "      <td>No</td>\n",
       "      <td>D</td>\n",
       "    </tr>\n",
       "    <tr>\n",
       "      <th>20</th>\n",
       "      <td>Yes</td>\n",
       "      <td>A</td>\n",
       "    </tr>\n",
       "    <tr>\n",
       "      <th>21</th>\n",
       "      <td>Yes</td>\n",
       "      <td>A</td>\n",
       "    </tr>\n",
       "    <tr>\n",
       "      <th>22</th>\n",
       "      <td>Yes</td>\n",
       "      <td>A</td>\n",
       "    </tr>\n",
       "    <tr>\n",
       "      <th>23</th>\n",
       "      <td>Yes</td>\n",
       "      <td>A</td>\n",
       "    </tr>\n",
       "    <tr>\n",
       "      <th>24</th>\n",
       "      <td>Yes</td>\n",
       "      <td>A</td>\n",
       "    </tr>\n",
       "    <tr>\n",
       "      <th>25</th>\n",
       "      <td>Yes</td>\n",
       "      <td>A</td>\n",
       "    </tr>\n",
       "    <tr>\n",
       "      <th>26</th>\n",
       "      <td>Yes</td>\n",
       "      <td>A</td>\n",
       "    </tr>\n",
       "    <tr>\n",
       "      <th>27</th>\n",
       "      <td>Yes</td>\n",
       "      <td>A</td>\n",
       "    </tr>\n",
       "    <tr>\n",
       "      <th>28</th>\n",
       "      <td>Yes</td>\n",
       "      <td>A</td>\n",
       "    </tr>\n",
       "    <tr>\n",
       "      <th>29</th>\n",
       "      <td>Yes</td>\n",
       "      <td>A</td>\n",
       "    </tr>\n",
       "    <tr>\n",
       "      <th>30</th>\n",
       "      <td>Yes</td>\n",
       "      <td>B</td>\n",
       "    </tr>\n",
       "    <tr>\n",
       "      <th>31</th>\n",
       "      <td>Yes</td>\n",
       "      <td>B</td>\n",
       "    </tr>\n",
       "    <tr>\n",
       "      <th>32</th>\n",
       "      <td>Yes</td>\n",
       "      <td>B</td>\n",
       "    </tr>\n",
       "    <tr>\n",
       "      <th>33</th>\n",
       "      <td>Yes</td>\n",
       "      <td>B</td>\n",
       "    </tr>\n",
       "    <tr>\n",
       "      <th>34</th>\n",
       "      <td>Yes</td>\n",
       "      <td>B</td>\n",
       "    </tr>\n",
       "    <tr>\n",
       "      <th>35</th>\n",
       "      <td>Yes</td>\n",
       "      <td>B</td>\n",
       "    </tr>\n",
       "    <tr>\n",
       "      <th>36</th>\n",
       "      <td>Yes</td>\n",
       "      <td>B</td>\n",
       "    </tr>\n",
       "    <tr>\n",
       "      <th>37</th>\n",
       "      <td>Yes</td>\n",
       "      <td>B</td>\n",
       "    </tr>\n",
       "    <tr>\n",
       "      <th>38</th>\n",
       "      <td>Yes</td>\n",
       "      <td>B</td>\n",
       "    </tr>\n",
       "    <tr>\n",
       "      <th>39</th>\n",
       "      <td>Yes</td>\n",
       "      <td>B</td>\n",
       "    </tr>\n",
       "  </tbody>\n",
       "</table>\n",
       "</div>"
      ],
      "text/plain": [
       "   Passes Final Midterm Grade\n",
       "0            No             C\n",
       "1            No             C\n",
       "2            No             C\n",
       "3            No             C\n",
       "4            No             C\n",
       "5            No             C\n",
       "6            No             C\n",
       "7            No             C\n",
       "8            No             C\n",
       "9            No             C\n",
       "10           No             D\n",
       "11           No             D\n",
       "12           No             D\n",
       "13           No             D\n",
       "14           No             D\n",
       "15           No             D\n",
       "16           No             D\n",
       "17           No             D\n",
       "18           No             D\n",
       "19           No             D\n",
       "20          Yes             A\n",
       "21          Yes             A\n",
       "22          Yes             A\n",
       "23          Yes             A\n",
       "24          Yes             A\n",
       "25          Yes             A\n",
       "26          Yes             A\n",
       "27          Yes             A\n",
       "28          Yes             A\n",
       "29          Yes             A\n",
       "30          Yes             B\n",
       "31          Yes             B\n",
       "32          Yes             B\n",
       "33          Yes             B\n",
       "34          Yes             B\n",
       "35          Yes             B\n",
       "36          Yes             B\n",
       "37          Yes             B\n",
       "38          Yes             B\n",
       "39          Yes             B"
      ]
     },
     "execution_count": 114,
     "metadata": {},
     "output_type": "execute_result"
    }
   ],
   "source": [
    "new_mutual_cols(test)"
   ]
  }
 ],
 "metadata": {
  "kernelspec": {
   "display_name": "Python 3 (ipykernel)",
   "language": "python",
   "name": "python3"
  },
  "language_info": {
   "codemirror_mode": {
    "name": "ipython",
    "version": 3
   },
   "file_extension": ".py",
   "mimetype": "text/x-python",
   "name": "python",
   "nbconvert_exporter": "python",
   "pygments_lexer": "ipython3",
   "version": "3.8.13"
  },
  "toc": {
   "base_numbering": 1,
   "nav_menu": {},
   "number_sections": false,
   "sideBar": true,
   "skip_h1_title": false,
   "title_cell": "Table of Contents",
   "title_sidebar": "Contents",
   "toc_cell": false,
   "toc_position": {
    "height": "calc(100% - 180px)",
    "left": "10px",
    "top": "150px",
    "width": "165px"
   },
   "toc_section_display": true,
   "toc_window_display": true
  }
 },
 "nbformat": 4,
 "nbformat_minor": 5
}
